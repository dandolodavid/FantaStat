{
 "cells": [
  {
   "cell_type": "code",
   "execution_count": 1,
   "metadata": {},
   "outputs": [],
   "source": [
    "#! pip install cherrypy"
   ]
  },
  {
   "cell_type": "code",
   "execution_count": 2,
   "metadata": {},
   "outputs": [],
   "source": [
    "#! pip install markupsafe==2.0.1"
   ]
  },
  {
   "cell_type": "code",
   "execution_count": 3,
   "metadata": {},
   "outputs": [],
   "source": [
    "#! pip install itsdangerous==2.0.1"
   ]
  },
  {
   "cell_type": "code",
   "execution_count": 4,
   "metadata": {},
   "outputs": [],
   "source": [
    "#! pip install -U Werkzeug==0.16.0"
   ]
  },
  {
   "cell_type": "code",
   "execution_count": 5,
   "metadata": {},
   "outputs": [],
   "source": [
    "import pandas as pd\n",
    "import numpy as np\n",
    "from app_function import view_classifica, view_player_page, view_role_explorer"
   ]
  },
  {
   "cell_type": "code",
   "execution_count": 6,
   "metadata": {},
   "outputs": [],
   "source": [
    "team_list = []\n",
    "global team_list\n",
    "modulo_scelto = '3-4-3'\n",
    "global modulo_scelto "
   ]
  },
  {
   "cell_type": "code",
   "execution_count": 7,
   "metadata": {},
   "outputs": [],
   "source": [
    "player_info = pd.read_csv('../dataset/stat_info^(Stagione 2021_22).csv',index_col=[0])\n",
    "player_hist = pd.read_csv('../dataset/player_history^(Stagione 2021_22).csv',index_col=[0])\n",
    "\n",
    "player_hist.Voto = player_hist.Voto.astype(float)\n",
    "player_hist.FV = player_hist.FV.astype(float)\n",
    "player_hist.Bonus = player_hist.Bonus.astype(float)\n",
    "player_hist.Malus = player_hist.Malus.astype(float)\n",
    "\n",
    "all_names = player_info.Nome.unique().tolist()\n",
    "all_teams = player_info.Squadra.unique().tolist()\n",
    "\n",
    "classifica = pd.read_csv('../dataset/final_classifica^(Stagione 2021_22).csv',index_col=[0])"
   ]
  },
  {
   "cell_type": "code",
   "execution_count": 8,
   "metadata": {},
   "outputs": [],
   "source": [
    "def view_builded_team(team_dict):\n",
    "    \n",
    "    team_df = player_info.loc[player_info.Nome.isin(team_dict)]\n",
    "    \n",
    "    counts_role = team_df.Ruolo.value_counts()\n",
    "    \n",
    "    n_dif = counts_role.loc['D']\n",
    "    n_cen = counts_role.loc['C']\n",
    "    n_att = counts_role.loc['A']\n",
    "    \n",
    "    dif_class = 'dif_'+ str(n_dif)\n",
    "    cen_class = 'cen_'+ str(n_cen)\n",
    "    att_class = 'att_'+ str(n_att)\n",
    "    \n",
    "    role_total = team_df.groupby('Ruolo')[['Bonus','Malus','Gol','Assist','xG','xA']].sum()\n",
    "    role_mean = team_df.groupby('Ruolo')[['media_voto','media_fantavoto','%_con_voto', '%_fv_5', '%_fv_5_6', '%_fv_6_7', '%_fv_7_8', '%_fv_>_8',]].mean()\n",
    "    \n",
    " \n",
    "    table = role_total.merge(role_mean, left_index=True,right_index=True).loc[['P','D','C','A']].reset_index()\n",
    "    table = np.round(table,2)\n",
    "    \n",
    "    return render_template( 'builded_team.html', table = table)"
   ]
  },
  {
   "cell_type": "code",
   "execution_count": 9,
   "metadata": {},
   "outputs": [],
   "source": [
    "def view_team_builder(modulo_scelto):\n",
    "    \n",
    "    grid_list = modulo_scelto.split('-')\n",
    "    dif_class = 'dif_'+grid_list[0]\n",
    "    cen_class = 'cen_'+grid_list[1]\n",
    "    att_class = 'att_'+grid_list[2]\n",
    "\n",
    "    n_dif = int(grid_list[0])\n",
    "    n_cen = int(grid_list[1])\n",
    "    n_att = int(grid_list[2])\n",
    "\n",
    "    nomi_dif = ['nome_' + str(2+i) for i in range(0,n_dif)]\n",
    "    nomi_cen = ['nome_' + str(n_dif+2+i) for i in range(0,n_cen)]\n",
    "    nomi_att = ['nome_' + str(n_dif+n_cen+2+i) for i in range(0,n_att)]\n",
    "\n",
    "    por_names = player_info.loc[player_info.Ruolo == 'P'].Nome.unique()\n",
    "    dif_names = player_info.loc[player_info.Ruolo == 'D'].Nome.unique()\n",
    "    cen_names = player_info.loc[player_info.Ruolo == 'C'].Nome.unique()\n",
    "    att_names = player_info.loc[player_info.Ruolo == 'A'].Nome.unique()\n",
    "\n",
    "    return render_template( 'team_builder.html',  modulo_scelto = modulo_scelto,\n",
    "                           por_names = por_names, dif_names = dif_names, cen_names = cen_names, att_names = att_names, \n",
    "                           dif_class=dif_class, cen_class=cen_class, att_class=att_class,\n",
    "                           n_dif = n_dif,n_cen = n_cen,n_att = n_att,\n",
    "                           nomi_dif= nomi_dif,\n",
    "                           nomi_cen = nomi_cen,\n",
    "                           nomi_att = nomi_att\n",
    "                          )"
   ]
  },
  {
   "cell_type": "code",
   "execution_count": null,
   "metadata": {},
   "outputs": [
    {
     "name": "stdout",
     "output_type": "stream",
     "text": [
      " * Serving Flask app \"__main__\" (lazy loading)\n",
      " * Environment: production\n",
      "   WARNING: This is a development server. Do not use it in a production deployment.\n",
      "   Use a production WSGI server instead.\n",
      " * Debug mode: off\n"
     ]
    },
    {
     "name": "stderr",
     "output_type": "stream",
     "text": [
      " * Running on http://127.0.0.1:5000/ (Press CTRL+C to quit)\n",
      "127.0.0.1 - - [28/Jul/2022 13:58:31] \"\u001b[37mGET / HTTP/1.1\u001b[0m\" 200 -\n",
      "127.0.0.1 - - [28/Jul/2022 13:58:31] \"\u001b[33mGET /favicon.ico HTTP/1.1\u001b[0m\" 404 -\n",
      "127.0.0.1 - - [28/Jul/2022 13:58:32] \"\u001b[37mGET /role-explorer HTTP/1.1\u001b[0m\" 200 -\n",
      "127.0.0.1 - - [28/Jul/2022 13:59:03] \"\u001b[37mPOST /role-explorer HTTP/1.1\u001b[0m\" 200 -\n",
      "127.0.0.1 - - [28/Jul/2022 13:59:16] \"\u001b[37mPOST /role-explorer HTTP/1.1\u001b[0m\" 200 -\n"
     ]
    }
   ],
   "source": [
    "from flask import Flask, render_template,request, redirect, url_for\n",
    "\n",
    "app = Flask(__name__)\n",
    "\n",
    "@app.route(\"/\")\n",
    "def home_page():\n",
    "    return render_template('home_page.html')\n",
    "\n",
    "@app.route(\"/player-page\")\n",
    "def player_page(nome=all_names[0]):\n",
    "    return view_player_page(player_info,player_hist,all_names,nome)\n",
    "    \n",
    "@app.route('/player-page', methods=['POST'])\n",
    "def handle_name():\n",
    "    nome_selected= request.form.get('nome_selezionato')\n",
    "    return view_player_page(player_info,player_hist,all_names,nome_selected)\n",
    "\n",
    "@app.route('/classifica', methods=(\"POST\", \"GET\"))\n",
    "def classfica_page():\n",
    "    return view_classifica(classifica)\n",
    "\n",
    "@app.route('/role-explorer')\n",
    "def role_page():\n",
    "    return view_role_explorer(player_info, all_teams )\n",
    "\n",
    "@app.route('/role-explorer', methods=['POST'])\n",
    "def handle_filter():\n",
    "    min_pres = request.form.get('min_pres')\n",
    "    role_selected = request.form.get('role_selected')\n",
    "    team_selected = request.form.get('team_selected')\n",
    "    return view_role_explorer(player_info, all_teams,\n",
    "                              role = role_selected, \n",
    "                              filter_presence = min_pres, \n",
    "                              team_selected = team_selected)\n",
    "\n",
    "@app.route('/team-builder')\n",
    "def team_builder():\n",
    "    return view_team_builder(modulo_scelto)\n",
    "            \n",
    "@app.route('/team-builder', methods=['POST'])\n",
    "def handle_team_builder():\n",
    "    team_list = []\n",
    "    if 'scegli_modulo' in request.form:\n",
    "        modulo_scelto = request.form.get('modulo_scelto')\n",
    "        return view_team_builder(modulo_scelto)\n",
    "    \n",
    "    if 'build_team' in request.form:\n",
    "        for i in range(1,12):\n",
    "            team_list.append(request.form.get('nome_'+str(i)))\n",
    "        return view_builded_team(team_list)\n",
    "\n",
    "\n",
    "if __name__ == \"__main__\":\n",
    "    app.run()"
   ]
  },
  {
   "cell_type": "code",
   "execution_count": null,
   "metadata": {},
   "outputs": [],
   "source": []
  },
  {
   "cell_type": "code",
   "execution_count": null,
   "metadata": {},
   "outputs": [],
   "source": []
  }
 ],
 "metadata": {
  "kernelspec": {
   "display_name": "Python 3",
   "language": "python",
   "name": "python3"
  },
  "language_info": {
   "codemirror_mode": {
    "name": "ipython",
    "version": 3
   },
   "file_extension": ".py",
   "mimetype": "text/x-python",
   "name": "python",
   "nbconvert_exporter": "python",
   "pygments_lexer": "ipython3",
   "version": "3.8.3"
  }
 },
 "nbformat": 4,
 "nbformat_minor": 4
}
