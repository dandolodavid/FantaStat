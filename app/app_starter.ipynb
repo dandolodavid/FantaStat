{
 "cells": [
  {
   "cell_type": "code",
   "execution_count": 1,
   "metadata": {},
   "outputs": [],
   "source": [
    "#! pip install cherrypy"
   ]
  },
  {
   "cell_type": "code",
   "execution_count": 2,
   "metadata": {},
   "outputs": [],
   "source": [
    "#! pip install markupsafe==2.0.1"
   ]
  },
  {
   "cell_type": "code",
   "execution_count": 3,
   "metadata": {},
   "outputs": [],
   "source": [
    "#! pip install itsdangerous==2.0.1"
   ]
  },
  {
   "cell_type": "code",
   "execution_count": 4,
   "metadata": {},
   "outputs": [],
   "source": [
    "#! pip install -U Werkzeug==0.16.0"
   ]
  },
  {
   "cell_type": "code",
   "execution_count": 5,
   "metadata": {},
   "outputs": [],
   "source": [
    "import pandas as pd\n",
    "import numpy as np\n",
    "from app_function import view_classifica, view_player_page, view_role_explorer, view_team_builder, view_builded_team\n",
    "from team_builder import build_team"
   ]
  },
  {
   "cell_type": "code",
   "execution_count": 6,
   "metadata": {},
   "outputs": [],
   "source": [
    "team_list = []\n",
    "global team_list\n",
    "modulo_scelto = '3-4-3'\n",
    "global modulo_scelto "
   ]
  },
  {
   "cell_type": "code",
   "execution_count": 7,
   "metadata": {},
   "outputs": [],
   "source": [
    "player_info = pd.read_csv('../dataset/stat_info^(Stagione 2021_22).csv',index_col=[0])\n",
    "player_hist = pd.read_csv('../dataset/player_history^(Stagione 2021_22).csv',index_col=[0])\n",
    "\n",
    "player_hist.Voto = player_hist.Voto.astype(float)\n",
    "player_hist.FV = player_hist.FV.astype(float)\n",
    "player_hist.Bonus = player_hist.Bonus.astype(float)\n",
    "player_hist.Malus = player_hist.Malus.astype(float)\n",
    "\n",
    "all_names = player_info.Nome.unique().tolist()\n",
    "all_teams = player_info.Squadra.unique().tolist()\n",
    "\n",
    "classifica = pd.read_csv('../dataset/final_classifica^(Stagione 2021_22).csv',index_col=[0])"
   ]
  },
  {
   "cell_type": "code",
   "execution_count": null,
   "metadata": {},
   "outputs": [
    {
     "name": "stdout",
     "output_type": "stream",
     "text": [
      " * Serving Flask app \"__main__\" (lazy loading)\n",
      " * Environment: production\n",
      "   WARNING: This is a development server. Do not use it in a production deployment.\n",
      "   Use a production WSGI server instead.\n",
      " * Debug mode: off\n"
     ]
    },
    {
     "name": "stderr",
     "output_type": "stream",
     "text": [
      " * Running on http://127.0.0.1:5000/ (Press CTRL+C to quit)\n",
      "127.0.0.1 - - [28/Jul/2022 21:46:46] \"\u001b[37mGET / HTTP/1.1\u001b[0m\" 200 -\n",
      "127.0.0.1 - - [28/Jul/2022 21:46:48] \"\u001b[37mGET /team-builder HTTP/1.1\u001b[0m\" 200 -\n",
      "127.0.0.1 - - [28/Jul/2022 21:46:51] \"\u001b[37mGET /team-builder HTTP/1.1\u001b[0m\" 200 -\n",
      "127.0.0.1 - - [28/Jul/2022 21:46:51] \"\u001b[37mGET /static/styles/general.css HTTP/1.1\u001b[0m\" 200 -\n",
      "127.0.0.1 - - [28/Jul/2022 21:46:51] \"\u001b[37mGET /static/styles/team_builder.css HTTP/1.1\u001b[0m\" 200 -\n",
      "127.0.0.1 - - [28/Jul/2022 21:46:51] \"\u001b[37mGET /static/img/logo.png HTTP/1.1\u001b[0m\" 200 -\n",
      "127.0.0.1 - - [28/Jul/2022 21:46:51] \"\u001b[33mGET /favicon.ico HTTP/1.1\u001b[0m\" 404 -\n",
      "127.0.0.1 - - [28/Jul/2022 21:46:58] \"\u001b[37mPOST /team-builder HTTP/1.1\u001b[0m\" 200 -\n",
      "127.0.0.1 - - [28/Jul/2022 21:47:01] \"\u001b[37mGET /team-builder HTTP/1.1\u001b[0m\" 200 -\n",
      "127.0.0.1 - - [28/Jul/2022 21:47:02] \"\u001b[37mGET /classifica HTTP/1.1\u001b[0m\" 200 -\n",
      "127.0.0.1 - - [28/Jul/2022 21:47:03] \"\u001b[37mGET /role-explorer HTTP/1.1\u001b[0m\" 200 -\n",
      "127.0.0.1 - - [28/Jul/2022 21:47:07] \"\u001b[37mPOST /role-explorer HTTP/1.1\u001b[0m\" 200 -\n",
      "127.0.0.1 - - [28/Jul/2022 21:47:08] \"\u001b[37mGET /player-page HTTP/1.1\u001b[0m\" 200 -\n",
      "127.0.0.1 - - [28/Jul/2022 21:47:13] \"\u001b[37mPOST /player-page HTTP/1.1\u001b[0m\" 200 -\n",
      "127.0.0.1 - - [28/Jul/2022 21:47:29] \"\u001b[37mPOST /player-page HTTP/1.1\u001b[0m\" 200 -\n",
      "127.0.0.1 - - [28/Jul/2022 21:47:29] \"\u001b[37mGET /static/styles/player_page_css.css HTTP/1.1\u001b[0m\" 200 -\n",
      "127.0.0.1 - - [28/Jul/2022 21:47:29] \"\u001b[37mGET /static/styles/general.css HTTP/1.1\u001b[0m\" 200 -\n",
      "127.0.0.1 - - [28/Jul/2022 21:47:29] \"\u001b[37mGET /static/img/logo.png HTTP/1.1\u001b[0m\" 200 -\n",
      "127.0.0.1 - - [28/Jul/2022 21:47:30] \"\u001b[33mGET /favicon.ico HTTP/1.1\u001b[0m\" 404 -\n",
      "127.0.0.1 - - [28/Jul/2022 21:47:30] \"\u001b[37mGET /role-explorer HTTP/1.1\u001b[0m\" 200 -\n",
      "127.0.0.1 - - [28/Jul/2022 21:47:31] \"\u001b[37mGET /player-page HTTP/1.1\u001b[0m\" 200 -\n",
      "127.0.0.1 - - [28/Jul/2022 21:47:31] \"\u001b[37mGET /team-builder HTTP/1.1\u001b[0m\" 200 -\n",
      "127.0.0.1 - - [28/Jul/2022 21:47:33] \"\u001b[37mPOST /team-builder HTTP/1.1\u001b[0m\" 200 -\n",
      "127.0.0.1 - - [28/Jul/2022 21:47:33] \"\u001b[37mGET /classifica HTTP/1.1\u001b[0m\" 200 -\n",
      "127.0.0.1 - - [28/Jul/2022 21:47:34] \"\u001b[37mGET /team-builder HTTP/1.1\u001b[0m\" 200 -\n",
      "127.0.0.1 - - [28/Jul/2022 21:48:11] \"\u001b[37mPOST /team-builder HTTP/1.1\u001b[0m\" 200 -\n",
      "127.0.0.1 - - [28/Jul/2022 21:48:49] \"\u001b[37mGET /classifica HTTP/1.1\u001b[0m\" 200 -\n",
      "127.0.0.1 - - [28/Jul/2022 21:49:19] \"\u001b[37mGET /role-explorer HTTP/1.1\u001b[0m\" 200 -\n",
      "127.0.0.1 - - [28/Jul/2022 21:49:24] \"\u001b[37mPOST /role-explorer HTTP/1.1\u001b[0m\" 200 -\n",
      "127.0.0.1 - - [28/Jul/2022 21:49:46] \"\u001b[37mPOST /role-explorer HTTP/1.1\u001b[0m\" 200 -\n",
      "127.0.0.1 - - [28/Jul/2022 21:49:46] \"\u001b[37mGET /static/styles/role_explorer.css HTTP/1.1\u001b[0m\" 200 -\n",
      "127.0.0.1 - - [28/Jul/2022 21:49:46] \"\u001b[37mGET /static/styles/general.css HTTP/1.1\u001b[0m\" 200 -\n",
      "127.0.0.1 - - [28/Jul/2022 21:49:46] \"\u001b[37mGET /static/img/logo.png HTTP/1.1\u001b[0m\" 200 -\n",
      "127.0.0.1 - - [28/Jul/2022 21:49:46] \"\u001b[37mGET /static/img/pres.png HTTP/1.1\u001b[0m\" 200 -\n",
      "127.0.0.1 - - [28/Jul/2022 21:49:46] \"\u001b[37mGET /static/img/tit.png HTTP/1.1\u001b[0m\" 200 -\n",
      "127.0.0.1 - - [28/Jul/2022 21:49:46] \"\u001b[37mGET /static/img/ent.png HTTP/1.1\u001b[0m\" 200 -\n",
      "127.0.0.1 - - [28/Jul/2022 21:49:46] \"\u001b[37mGET /static/img/gol.png HTTP/1.1\u001b[0m\" 200 -\n",
      "127.0.0.1 - - [28/Jul/2022 21:49:46] \"\u001b[37mGET /static/img/ass.png HTTP/1.1\u001b[0m\" 200 -\n",
      "127.0.0.1 - - [28/Jul/2022 21:49:46] \"\u001b[37mGET /static/img/gol90.png HTTP/1.1\u001b[0m\" 200 -\n",
      "127.0.0.1 - - [28/Jul/2022 21:49:46] \"\u001b[37mGET /static/img/rc.png HTTP/1.1\u001b[0m\" 200 -\n",
      "127.0.0.1 - - [28/Jul/2022 21:49:46] \"\u001b[37mGET /static/img/rs.png HTTP/1.1\u001b[0m\" 200 -\n",
      "127.0.0.1 - - [28/Jul/2022 21:49:46] \"\u001b[37mGET /static/img/amm.png HTTP/1.1\u001b[0m\" 200 -\n",
      "127.0.0.1 - - [28/Jul/2022 21:49:46] \"\u001b[37mGET /static/img/esp.png HTTP/1.1\u001b[0m\" 200 -\n",
      "127.0.0.1 - - [28/Jul/2022 21:49:46] \"\u001b[37mGET /static/img/bonus.png HTTP/1.1\u001b[0m\" 200 -\n",
      "127.0.0.1 - - [28/Jul/2022 21:49:46] \"\u001b[37mGET /static/img/malus.png HTTP/1.1\u001b[0m\" 200 -\n",
      "127.0.0.1 - - [28/Jul/2022 21:49:46] \"\u001b[37mGET /static/img/xgol.png HTTP/1.1\u001b[0m\" 200 -\n",
      "127.0.0.1 - - [28/Jul/2022 21:49:46] \"\u001b[37mGET /static/img/xass.png HTTP/1.1\u001b[0m\" 200 -\n",
      "127.0.0.1 - - [28/Jul/2022 21:49:46] \"\u001b[37mGET /static/img/xg90.png HTTP/1.1\u001b[0m\" 200 -\n",
      "127.0.0.1 - - [28/Jul/2022 21:49:46] \"\u001b[37mGET /static/img/xa90.png HTTP/1.1\u001b[0m\" 200 -\n",
      "127.0.0.1 - - [28/Jul/2022 21:49:46] \"\u001b[37mGET /static/img/perf.png HTTP/1.1\u001b[0m\" 200 -\n",
      "127.0.0.1 - - [28/Jul/2022 21:49:51] \"\u001b[33mGET /favicon.ico HTTP/1.1\u001b[0m\" 404 -\n",
      "127.0.0.1 - - [28/Jul/2022 21:50:16] \"\u001b[37mPOST /role-explorer HTTP/1.1\u001b[0m\" 200 -\n",
      "127.0.0.1 - - [28/Jul/2022 21:50:16] \"\u001b[37mGET /static/styles/role_explorer.css HTTP/1.1\u001b[0m\" 200 -\n",
      "127.0.0.1 - - [28/Jul/2022 21:50:16] \"\u001b[37mGET /static/styles/general.css HTTP/1.1\u001b[0m\" 200 -\n",
      "127.0.0.1 - - [28/Jul/2022 21:50:16] \"\u001b[37mGET /static/img/logo.png HTTP/1.1\u001b[0m\" 200 -\n",
      "127.0.0.1 - - [28/Jul/2022 21:50:16] \"\u001b[37mGET /static/img/pres.png HTTP/1.1\u001b[0m\" 200 -\n",
      "127.0.0.1 - - [28/Jul/2022 21:50:16] \"\u001b[37mGET /static/img/tit.png HTTP/1.1\u001b[0m\" 200 -\n",
      "127.0.0.1 - - [28/Jul/2022 21:50:16] \"\u001b[37mGET /static/img/ent.png HTTP/1.1\u001b[0m\" 200 -\n",
      "127.0.0.1 - - [28/Jul/2022 21:50:16] \"\u001b[37mGET /static/img/gol.png HTTP/1.1\u001b[0m\" 200 -\n",
      "127.0.0.1 - - [28/Jul/2022 21:50:16] \"\u001b[37mGET /static/img/ass.png HTTP/1.1\u001b[0m\" 200 -\n",
      "127.0.0.1 - - [28/Jul/2022 21:50:16] \"\u001b[37mGET /static/img/gol90.png HTTP/1.1\u001b[0m\" 200 -\n",
      "127.0.0.1 - - [28/Jul/2022 21:50:16] \"\u001b[37mGET /static/img/rc.png HTTP/1.1\u001b[0m\" 200 -\n",
      "127.0.0.1 - - [28/Jul/2022 21:50:16] \"\u001b[37mGET /static/img/xg90.png HTTP/1.1\u001b[0m\" 200 -\n",
      "127.0.0.1 - - [28/Jul/2022 21:50:16] \"\u001b[37mGET /static/img/rs.png HTTP/1.1\u001b[0m\" 200 -\n",
      "127.0.0.1 - - [28/Jul/2022 21:50:16] \"\u001b[37mGET /static/img/xgol.png HTTP/1.1\u001b[0m\" 200 -\n",
      "127.0.0.1 - - [28/Jul/2022 21:50:16] \"\u001b[37mGET /static/img/malus.png HTTP/1.1\u001b[0m\" 200 -\n",
      "127.0.0.1 - - [28/Jul/2022 21:50:16] \"\u001b[37mGET /static/img/esp.png HTTP/1.1\u001b[0m\" 200 -\n",
      "127.0.0.1 - - [28/Jul/2022 21:50:16] \"\u001b[37mGET /static/img/xass.png HTTP/1.1\u001b[0m\" 200 -\n",
      "127.0.0.1 - - [28/Jul/2022 21:50:16] \"\u001b[37mGET /static/img/perf.png HTTP/1.1\u001b[0m\" 200 -\n",
      "127.0.0.1 - - [28/Jul/2022 21:50:16] \"\u001b[37mGET /static/img/xa90.png HTTP/1.1\u001b[0m\" 200 -\n",
      "127.0.0.1 - - [28/Jul/2022 21:50:16] \"\u001b[37mGET /static/img/amm.png HTTP/1.1\u001b[0m\" 200 -\n",
      "127.0.0.1 - - [28/Jul/2022 21:50:16] \"\u001b[37mGET /static/img/bonus.png HTTP/1.1\u001b[0m\" 200 -\n",
      "127.0.0.1 - - [28/Jul/2022 21:50:21] \"\u001b[33mGET /favicon.ico HTTP/1.1\u001b[0m\" 404 -\n",
      "127.0.0.1 - - [28/Jul/2022 21:50:28] \"\u001b[37mPOST /role-explorer HTTP/1.1\u001b[0m\" 200 -\n",
      "127.0.0.1 - - [28/Jul/2022 21:51:09] \"\u001b[37mGET /player-page HTTP/1.1\u001b[0m\" 200 -\n",
      "127.0.0.1 - - [28/Jul/2022 21:51:15] \"\u001b[37mPOST /player-page HTTP/1.1\u001b[0m\" 200 -\n",
      "127.0.0.1 - - [28/Jul/2022 21:52:35] \"\u001b[37mGET /role-explorer HTTP/1.1\u001b[0m\" 200 -\n",
      "127.0.0.1 - - [28/Jul/2022 21:52:37] \"\u001b[37mGET /player-page HTTP/1.1\u001b[0m\" 200 -\n",
      "127.0.0.1 - - [28/Jul/2022 21:52:38] \"\u001b[37mGET /team-builder HTTP/1.1\u001b[0m\" 200 -\n",
      "127.0.0.1 - - [28/Jul/2022 21:52:39] \"\u001b[37mGET /classifica HTTP/1.1\u001b[0m\" 200 -\n",
      "127.0.0.1 - - [28/Jul/2022 21:52:42] \"\u001b[37mGET /role-explorer HTTP/1.1\u001b[0m\" 200 -\n"
     ]
    }
   ],
   "source": [
    "from flask import Flask, render_template,request, redirect, url_for\n",
    "\n",
    "app = Flask(__name__)\n",
    "\n",
    "@app.route(\"/\")\n",
    "def home_page():\n",
    "    return render_template('home_page.html')\n",
    "\n",
    "@app.route(\"/player-page\")\n",
    "def player_page(nome=all_names[0]):\n",
    "    return view_player_page(player_info,player_hist,all_names,nome)\n",
    "    \n",
    "@app.route('/player-page', methods=['POST'])\n",
    "def handle_name():\n",
    "    nome_selected= request.form.get('nome_selezionato')\n",
    "    return view_player_page(player_info,player_hist,all_names,nome_selected)\n",
    "\n",
    "@app.route('/classifica', methods=(\"POST\", \"GET\"))\n",
    "def classfica_page():\n",
    "    return view_classifica(classifica)\n",
    "\n",
    "@app.route('/role-explorer')\n",
    "def role_page():\n",
    "    return view_role_explorer(player_info, all_teams )\n",
    "\n",
    "@app.route('/role-explorer', methods=['POST'])\n",
    "def handle_filter():\n",
    "    min_pres = request.form.get('min_pres')\n",
    "    role_selected = request.form.get('role_selected')\n",
    "    team_selected = request.form.get('team_selected')\n",
    "    return view_role_explorer(player_info, all_teams,\n",
    "                              role = role_selected, \n",
    "                              filter_presence = min_pres, \n",
    "                              team_selected = team_selected)\n",
    "\n",
    "@app.route('/team-builder')\n",
    "def team_builder():\n",
    "    return view_team_builder(player_info, modulo_scelto)\n",
    "            \n",
    "@app.route('/team-builder', methods=['POST'])\n",
    "def handle_team_builder():\n",
    "    team_list = []\n",
    "    if 'scegli_modulo' in request.form:\n",
    "        modulo_scelto = request.form.get('modulo_scelto')\n",
    "        return view_team_builder(player_info, modulo_scelto)\n",
    "    \n",
    "    if 'build_team' in request.form:\n",
    "        for i in range(1,12):\n",
    "            team_list.append(request.form.get('nome_'+str(i)))\n",
    "        return view_builded_team(team_list, player_info, player_hist)\n",
    "\n",
    "\n",
    "if __name__ == \"__main__\":\n",
    "    app.run()"
   ]
  },
  {
   "cell_type": "code",
   "execution_count": null,
   "metadata": {},
   "outputs": [],
   "source": []
  },
  {
   "cell_type": "code",
   "execution_count": null,
   "metadata": {},
   "outputs": [],
   "source": []
  }
 ],
 "metadata": {
  "kernelspec": {
   "display_name": "Python 3",
   "language": "python",
   "name": "python3"
  },
  "language_info": {
   "codemirror_mode": {
    "name": "ipython",
    "version": 3
   },
   "file_extension": ".py",
   "mimetype": "text/x-python",
   "name": "python",
   "nbconvert_exporter": "python",
   "pygments_lexer": "ipython3",
   "version": "3.8.3"
  }
 },
 "nbformat": 4,
 "nbformat_minor": 4
}
