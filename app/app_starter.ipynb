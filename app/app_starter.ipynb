{
 "cells": [
  {
   "cell_type": "code",
   "execution_count": 1,
   "metadata": {},
   "outputs": [],
   "source": [
    "#! pip install cherrypy"
   ]
  },
  {
   "cell_type": "code",
   "execution_count": 2,
   "metadata": {},
   "outputs": [],
   "source": [
    "#! pip install markupsafe==2.0.1"
   ]
  },
  {
   "cell_type": "code",
   "execution_count": 3,
   "metadata": {},
   "outputs": [],
   "source": [
    "#! pip install itsdangerous==2.0.1"
   ]
  },
  {
   "cell_type": "code",
   "execution_count": 4,
   "metadata": {},
   "outputs": [],
   "source": [
    "#! pip install -U Werkzeug==0.16.0"
   ]
  },
  {
   "cell_type": "code",
   "execution_count": 5,
   "metadata": {},
   "outputs": [],
   "source": [
    "import pandas as pd\n",
    "import numpy as np\n",
    "from app_function import view_classifica, view_player_page, view_role_explorer, view_team_builder, view_builded_team\n",
    "from utils_function import slot_handler"
   ]
  },
  {
   "cell_type": "code",
   "execution_count": null,
   "metadata": {},
   "outputs": [],
   "source": []
  },
  {
   "cell_type": "code",
   "execution_count": null,
   "metadata": {},
   "outputs": [],
   "source": []
  },
  {
   "cell_type": "code",
   "execution_count": null,
   "metadata": {},
   "outputs": [],
   "source": []
  },
  {
   "cell_type": "code",
   "execution_count": 6,
   "metadata": {},
   "outputs": [],
   "source": [
    "player_info = pd.read_csv('../dataset/stat_info^(Stagione 2021_22).csv',index_col=[0])\n",
    "player_hist = pd.read_csv('../dataset/player_history^(Stagione 2021_22).csv',index_col=[0])\n",
    "\n",
    "player_hist.Voto = player_hist.Voto.astype(float)\n",
    "player_hist.FV = player_hist.FV.astype(float)\n",
    "player_hist.Bonus = player_hist.Bonus.astype(float)\n",
    "player_hist.Malus = player_hist.Malus.astype(float)\n",
    "\n",
    "all_names = player_info.Nome.unique().tolist()\n",
    "all_teams = player_info.Squadra.unique().tolist()\n",
    "\n",
    "classifica = pd.read_csv('../dataset/final_classifica^(Stagione 2021_22).csv',index_col=[0])"
   ]
  },
  {
   "cell_type": "code",
   "execution_count": null,
   "metadata": {},
   "outputs": [
    {
     "name": "stdout",
     "output_type": "stream",
     "text": [
      " * Serving Flask app \"__main__\" (lazy loading)\n",
      " * Environment: production\n",
      "   WARNING: This is a development server. Do not use it in a production deployment.\n",
      "   Use a production WSGI server instead.\n",
      " * Debug mode: off\n"
     ]
    },
    {
     "name": "stderr",
     "output_type": "stream",
     "text": [
      " * Running on http://127.0.0.1:5000/ (Press CTRL+C to quit)\n",
      "127.0.0.1 - - [30/Jul/2022 12:11:09] \"\u001b[37mGET / HTTP/1.1\u001b[0m\" 200 -\n",
      "127.0.0.1 - - [30/Jul/2022 12:11:10] \"\u001b[37mGET /player-page HTTP/1.1\u001b[0m\" 200 -\n",
      "127.0.0.1 - - [30/Jul/2022 12:11:12] \"\u001b[37mPOST /player-page HTTP/1.1\u001b[0m\" 200 -\n",
      "127.0.0.1 - - [30/Jul/2022 12:11:15] \"\u001b[37mPOST /player-page HTTP/1.1\u001b[0m\" 200 -\n",
      "127.0.0.1 - - [30/Jul/2022 12:11:17] \"\u001b[37mPOST /player-page HTTP/1.1\u001b[0m\" 200 -\n"
     ]
    }
   ],
   "source": [
    "from flask import Flask, render_template,request, redirect, url_for, session\n",
    "\n",
    "app = Flask(__name__)\n",
    "\n",
    "@app.route(\"/\")\n",
    "def home_page():\n",
    "    session['actual_nome_selezionato'] = all_names[0]\n",
    "    session['actual_team_list'] = []\n",
    "    session['actual_modulo_scelto'] = '3-4-3'\n",
    "    session['actual_role_selected'] = 'P'\n",
    "    session['actual_min_pres'] = 0\n",
    "    session['actual_team_selected'] = 'Tutte'\n",
    "    session['actual_slot_asta'] = 'Tutti'\n",
    "    session['actual_show_fav'] = True\n",
    "    session['actual_show_not_fav'] = True\n",
    "    session['actual_sort_by'] = [None,None]\n",
    "\n",
    "    return render_template('home_page.html')\n",
    "\n",
    "@app.route(\"/player-page\")\n",
    "def player_page():\n",
    "    return view_player_page(player_info,player_hist,all_names,nome  = session['actual_nome_selezionato'])\n",
    "    \n",
    "@app.route('/player-page', methods=['POST'])\n",
    "def handle_name():\n",
    "    nome_selected = request.form.get('nome_selezionato')\n",
    "    session['actual_nome_selezionato'] = nome_selected\n",
    "    return view_player_page(player_info,player_hist,all_names,session['actual_nome_selezionato'])\n",
    "\n",
    "@app.route('/classifica', methods=(\"POST\", \"GET\"))\n",
    "def classfica_page():\n",
    "    return view_classifica(classifica)\n",
    "\n",
    "@app.route('/role-explorer')\n",
    "def role_page():\n",
    "    fav_file = open(\"../tmp/favourite.txt\", \"r\")\n",
    "    return view_role_explorer(player_info, all_teams, fav_file = fav_file )\n",
    "\n",
    "@app.route('/role-explorer', methods=['POST'])\n",
    "def handle_role_explorer():\n",
    "    \n",
    "    if 'sort' in request.form:\n",
    "        sort_by = request.form.getlist('sort')\n",
    "        if session['actual_sort_by'][0] == sort_by[0]:\n",
    "            session['actual_sort_by'] = [sort_by[0],False]\n",
    "        else:\n",
    "            session['actual_sort_by'] = [sort_by[0],True]\n",
    "    \n",
    "    if 'checked_fav' in request.form or  'checked_not_fav' in request.form:\n",
    "        \n",
    "        if 'checked_fav' in request.form:\n",
    "            show_fav = True\n",
    "        else:\n",
    "            show_fav = False\n",
    "\n",
    "        if 'checked_not_fav' in request.form:\n",
    "            show_not_fav = True\n",
    "        else:\n",
    "            show_not_fav = False\n",
    "\n",
    "        session['actual_show_fav'] = show_fav\n",
    "        session['actual_show_not_fav'] = show_not_fav\n",
    "        \n",
    "    if 'slot_selector' in request.form:\n",
    "        name_and_slot_list = request.form.getlist('slot_selector')\n",
    "        slot_handler(name_and_slot_list)\n",
    "\n",
    "    if 'add_to_fav' in request.form:\n",
    "        \n",
    "        name_for_fav = request.form.get('add_to_fav')    \n",
    "        file_in = open('../tmp/favourite.txt',\"r\")\n",
    "\n",
    "        names_favourite = file_in.read().splitlines()\n",
    "        if '' in names_favourite: \n",
    "            names_favourite.remove('')\n",
    "        file_in.close()\n",
    "        \n",
    "        if name_for_fav in names_favourite:\n",
    "            file_write = open('../tmp/favourite.txt',\"w\")\n",
    "            names_favourite.remove(name_for_fav)\n",
    "            for names in names_favourite:\n",
    "                if names != '':\n",
    "                    file_write.write(names + '\\n')\n",
    "            file_write.close()\n",
    "        else:\n",
    "            file_append = open('../tmp/favourite.txt',\"a\")\n",
    "            file_append.write(name_for_fav +'\\n')\n",
    "            file_append.close()\n",
    "        \n",
    "    if 'min_pres' in request.form:\n",
    "        min_pres = request.form.get('min_pres')\n",
    "        session['actual_min_pres'] = min_pres\n",
    "        \n",
    "    if 'role_selected' in request.form:\n",
    "        min_pres = request.form.get('role_selected')\n",
    "        session['actual_role_selected'] = min_pres\n",
    "\n",
    "    if 'team_selected' in request.form:\n",
    "        min_pres = request.form.get('team_selected')\n",
    "        session['actual_team_selected'] = min_pres\n",
    "    \n",
    "    if 'slot_asta' in request.form:\n",
    "        slot_asta = request.form.get('slot_asta')\n",
    "        session['actual_slot_asta'] = slot_asta\n",
    "\n",
    "    fav_file = open(\"../tmp/favourite.txt\", \"r\")\n",
    "    \n",
    "    return view_role_explorer(player_info, all_teams, fav_file = fav_file,\n",
    "                              slot = session['actual_slot_asta'],\n",
    "                              role = session['actual_role_selected'], \n",
    "                              filter_presence = session['actual_min_pres'], \n",
    "                              team_selected = session['actual_team_selected'],\n",
    "                              show_fav = session['actual_show_fav'],\n",
    "                              show_not_fav = session['actual_show_not_fav'],\n",
    "                              sort_by = session['actual_sort_by'])\n",
    "\n",
    "@app.route('/team-builder')\n",
    "def team_builder():\n",
    "    return view_team_builder(player_info, session['actual_modulo_scelto'] )\n",
    "            \n",
    "@app.route('/team-builder', methods=['POST'])\n",
    "def handle_team_builder():\n",
    "    session['actual_team_list'] = []\n",
    "    if 'scegli_modulo' in request.form:\n",
    "        modulo_scelto = request.form.get('modulo_scelto')\n",
    "        session['actual_modulo_scelto']  = modulo_scelto\n",
    "        return view_team_builder(player_info, session['actual_modulo_scelto'] )\n",
    "    \n",
    "    if 'build_team' in request.form:\n",
    "        for i in range(1,12):\n",
    "            session['actual_team_list'].append(request.form.get('nome_'+str(i)))\n",
    "        return view_builded_team(session['actual_team_list'], player_info, player_hist)\n",
    "\n",
    "\n",
    "if __name__ == \"__main__\":\n",
    "    app.secret_key = 'fantastat'\n",
    "    app.config['SESSION_TYPE'] = 'filesystem'\n",
    "\n",
    "    app.run()"
   ]
  },
  {
   "cell_type": "code",
   "execution_count": null,
   "metadata": {},
   "outputs": [],
   "source": []
  },
  {
   "cell_type": "code",
   "execution_count": null,
   "metadata": {},
   "outputs": [],
   "source": []
  }
 ],
 "metadata": {
  "kernelspec": {
   "display_name": "Python 3",
   "language": "python",
   "name": "python3"
  },
  "language_info": {
   "codemirror_mode": {
    "name": "ipython",
    "version": 3
   },
   "file_extension": ".py",
   "mimetype": "text/x-python",
   "name": "python",
   "nbconvert_exporter": "python",
   "pygments_lexer": "ipython3",
   "version": "3.8.3"
  }
 },
 "nbformat": 4,
 "nbformat_minor": 4
}
