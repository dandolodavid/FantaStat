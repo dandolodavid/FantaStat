{
 "cells": [
  {
   "cell_type": "code",
   "execution_count": 1,
   "metadata": {},
   "outputs": [],
   "source": [
    "#! pip install cherrypy"
   ]
  },
  {
   "cell_type": "code",
   "execution_count": 2,
   "metadata": {},
   "outputs": [],
   "source": [
    "#! pip install markupsafe==2.0.1"
   ]
  },
  {
   "cell_type": "code",
   "execution_count": 3,
   "metadata": {},
   "outputs": [],
   "source": [
    "#! pip install itsdangerous==2.0.1"
   ]
  },
  {
   "cell_type": "code",
   "execution_count": 4,
   "metadata": {},
   "outputs": [],
   "source": [
    "#! pip install -U Werkzeug==0.16.0"
   ]
  },
  {
   "cell_type": "code",
   "execution_count": 5,
   "metadata": {},
   "outputs": [],
   "source": [
    "import pandas as pd\n",
    "import numpy as np\n",
    "from app_view_function import view_classifica, view_player_page, view_player_table, view_team_builder, view_builded_team\n",
    "from app_utils_function import slot_handler\n",
    "from app_handle_function import home_page,handle_name,handle_role_explorer,handle_role_explorer_home,handle_team_builder,handle_tool_asta"
   ]
  },
  {
   "cell_type": "code",
   "execution_count": 6,
   "metadata": {},
   "outputs": [],
   "source": [
    "player_info = pd.read_csv('../dataset/stat_info^(Stagione 2021_22).csv',index_col=[0])\n",
    "player_hist = pd.read_csv('../dataset/player_history^(Stagione 2021_22).csv',index_col=[0])\n",
    "listone_df = pd.read_csv('../dataset/final_listone^(Stagione 2022_23).csv',index_col=[0]).fillna(0)\n",
    "classifica = pd.read_csv('../dataset/final_classifica^(Stagione 2021_22).csv',index_col=[0])\n",
    "\n",
    "player_hist.Voto = player_hist.Voto.astype(float)\n",
    "player_hist.FV = player_hist.FV.astype(float)\n",
    "player_hist.Bonus = player_hist.Bonus.astype(float)\n",
    "player_hist.Malus = player_hist.Malus.astype(float)\n",
    "\n",
    "all_names = player_info.Nome.unique().tolist()\n",
    "all_teams = listone_df.Squadra.unique().tolist()\n",
    "\n"
   ]
  },
  {
   "cell_type": "code",
   "execution_count": null,
   "metadata": {},
   "outputs": [
    {
     "name": "stdout",
     "output_type": "stream",
     "text": [
      " * Serving Flask app \"__main__\" (lazy loading)\n",
      " * Environment: production\n",
      "   WARNING: This is a development server. Do not use it in a production deployment.\n",
      "   Use a production WSGI server instead.\n",
      " * Debug mode: off\n"
     ]
    },
    {
     "name": "stderr",
     "output_type": "stream",
     "text": [
      " * Running on http://127.0.0.1:5000/ (Press CTRL+C to quit)\n",
      "127.0.0.1 - - [03/Aug/2022 21:36:28] \"\u001b[37mGET / HTTP/1.1\u001b[0m\" 200 -\n",
      "127.0.0.1 - - [03/Aug/2022 21:36:32] \"\u001b[37mGET /role-explorer HTTP/1.1\u001b[0m\" 200 -\n",
      "127.0.0.1 - - [03/Aug/2022 21:36:40] \"\u001b[37mPOST /role-explorer HTTP/1.1\u001b[0m\" 200 -\n"
     ]
    }
   ],
   "source": [
    "from flask import Flask, render_template,request, redirect, url_for, session\n",
    "\n",
    "app = Flask(__name__)\n",
    "\n",
    "@app.route(\"/\")\n",
    "def route_home_page():\n",
    "    return home_page(session, all_names)\n",
    "\n",
    "@app.route(\"/player-page\")\n",
    "def player_page():\n",
    "    return view_player_page(player_info, player_hist, all_names, nome  = session['actual_nome_selezionato'])\n",
    "    \n",
    "@app.route('/player-page', methods=['POST'])\n",
    "def route_player_page():\n",
    "    return handle_name(session, player_info, player_hist, all_names)\n",
    "\n",
    "@app.route('/classifica', methods=(\"POST\", \"GET\"))\n",
    "def route_classfica_page():\n",
    "    return view_classifica(classifica)\n",
    "\n",
    "@app.route('/role-explorer')\n",
    "def route_role_page():\n",
    "    return handle_role_explorer_home(listone_df, all_teams)\n",
    "\n",
    "@app.route('/role-explorer', methods=['POST'])\n",
    "def route_role_explorer_action():\n",
    "    return handle_role_explorer(session, listone_df, all_teams)\n",
    "\n",
    "@app.route('/team-builder')\n",
    "def route_team_builder():\n",
    "    return view_team_builder(player_info, session['actual_modulo_scelto'] )\n",
    "            \n",
    "@app.route('/team-builder', methods=['POST'])\n",
    "def route_team_builder_action():\n",
    "    return handle_team_builder(session,player_info, player_hist)\n",
    "\n",
    "@app.route('/tool-asta')\n",
    "def handle_asta_tool():\n",
    "    return handle_tool_asta(session,listone_df, all_teams)\n",
    "\n",
    "@app.route('/tool-asta', methods=['POST'])\n",
    "def route_tool_asta_action():\n",
    "    return handle_tool_asta(session, listone_df, all_teams)\n",
    "\n",
    "if __name__ == \"__main__\":\n",
    "    app.secret_key = 'fantastat'\n",
    "    app.config['SESSION_TYPE'] = 'filesystem'\n",
    "\n",
    "    app.run()\n",
    "    "
   ]
  },
  {
   "cell_type": "code",
   "execution_count": null,
   "metadata": {},
   "outputs": [],
   "source": []
  }
 ],
 "metadata": {
  "kernelspec": {
   "display_name": "Python 3",
   "language": "python",
   "name": "python3"
  },
  "language_info": {
   "codemirror_mode": {
    "name": "ipython",
    "version": 3
   },
   "file_extension": ".py",
   "mimetype": "text/x-python",
   "name": "python",
   "nbconvert_exporter": "python",
   "pygments_lexer": "ipython3",
   "version": "3.8.3"
  }
 },
 "nbformat": 4,
 "nbformat_minor": 4
}
