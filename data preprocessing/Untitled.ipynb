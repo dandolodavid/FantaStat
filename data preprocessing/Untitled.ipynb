{
 "cells": [
  {
   "cell_type": "code",
   "execution_count": 93,
   "metadata": {},
   "outputs": [],
   "source": [
    "import pandas as pd\n",
    "import numpy as np"
   ]
  },
  {
   "cell_type": "code",
   "execution_count": 94,
   "metadata": {},
   "outputs": [],
   "source": [
    "calendario = pd.read_excel('../dataset/calendario^(Stagione 2022_23).xlsx')"
   ]
  },
  {
   "cell_type": "code",
   "execution_count": 95,
   "metadata": {},
   "outputs": [],
   "source": [
    "calendario['HomeTeam'] = calendario.Partita.apply(lambda x: str(x).replace(' ','').split('-')[0].upper()[0:3])\n",
    "calendario['AwayTeam'] = calendario.Partita.apply(lambda x: str(x).replace(' ','').split('-')[1].upper()[0:3])"
   ]
  },
  {
   "cell_type": "code",
   "execution_count": 96,
   "metadata": {},
   "outputs": [],
   "source": [
    "dixon_coles = pd.read_csv('dixon_coles^(Stagione 2021_22).csv',index_col=[0])"
   ]
  },
  {
   "cell_type": "code",
   "execution_count": 97,
   "metadata": {},
   "outputs": [],
   "source": [
    "new_team_remap = { 'GEN' : 'CRE', 'CAG':'MON', 'VEN':'LEC' }"
   ]
  },
  {
   "cell_type": "code",
   "execution_count": 98,
   "metadata": {},
   "outputs": [],
   "source": [
    "dixon_coles['Squadra'] = dixon_coles.index.tolist()\n",
    "for idx in dixon_coles.index:\n",
    "    if idx in new_team_remap.keys():\n",
    "        dixon_coles.loc[idx,'Squadra'] = new_team_remap[idx]\n",
    "dixon_coles = dixon_coles.set_index('Squadra')"
   ]
  },
  {
   "cell_type": "code",
   "execution_count": 123,
   "metadata": {},
   "outputs": [
    {
     "data": {
      "text/html": [
       "<div>\n",
       "<style scoped>\n",
       "    .dataframe tbody tr th:only-of-type {\n",
       "        vertical-align: middle;\n",
       "    }\n",
       "\n",
       "    .dataframe tbody tr th {\n",
       "        vertical-align: top;\n",
       "    }\n",
       "\n",
       "    .dataframe thead th {\n",
       "        text-align: right;\n",
       "    }\n",
       "</style>\n",
       "<table border=\"1\" class=\"dataframe\">\n",
       "  <thead>\n",
       "    <tr style=\"text-align: right;\">\n",
       "      <th></th>\n",
       "      <th>Atk_Params</th>\n",
       "      <th>Def_Params</th>\n",
       "    </tr>\n",
       "    <tr>\n",
       "      <th>Squadra</th>\n",
       "      <th></th>\n",
       "      <th></th>\n",
       "    </tr>\n",
       "  </thead>\n",
       "  <tbody>\n",
       "    <tr>\n",
       "      <th>ATA</th>\n",
       "      <td>1.237182</td>\n",
       "      <td>-0.864092</td>\n",
       "    </tr>\n",
       "    <tr>\n",
       "      <th>BOL</th>\n",
       "      <td>0.854800</td>\n",
       "      <td>-0.749950</td>\n",
       "    </tr>\n",
       "    <tr>\n",
       "      <th>MON</th>\n",
       "      <td>0.606601</td>\n",
       "      <td>-0.548694</td>\n",
       "    </tr>\n",
       "    <tr>\n",
       "      <th>EMP</th>\n",
       "      <td>0.997852</td>\n",
       "      <td>-0.505108</td>\n",
       "    </tr>\n",
       "    <tr>\n",
       "      <th>FIO</th>\n",
       "      <td>1.138049</td>\n",
       "      <td>-0.819373</td>\n",
       "    </tr>\n",
       "    <tr>\n",
       "      <th>CRE</th>\n",
       "      <td>0.373825</td>\n",
       "      <td>-0.676658</td>\n",
       "    </tr>\n",
       "    <tr>\n",
       "      <th>INT</th>\n",
       "      <td>1.479094</td>\n",
       "      <td>-1.254770</td>\n",
       "    </tr>\n",
       "    <tr>\n",
       "      <th>JUV</th>\n",
       "      <td>1.091228</td>\n",
       "      <td>-1.139555</td>\n",
       "    </tr>\n",
       "    <tr>\n",
       "      <th>LAZ</th>\n",
       "      <td>1.417609</td>\n",
       "      <td>-0.666181</td>\n",
       "    </tr>\n",
       "    <tr>\n",
       "      <th>MIL</th>\n",
       "      <td>1.280862</td>\n",
       "      <td>-1.306371</td>\n",
       "    </tr>\n",
       "    <tr>\n",
       "      <th>NAP</th>\n",
       "      <td>1.345776</td>\n",
       "      <td>-1.302375</td>\n",
       "    </tr>\n",
       "    <tr>\n",
       "      <th>ROM</th>\n",
       "      <td>1.135148</td>\n",
       "      <td>-0.987442</td>\n",
       "    </tr>\n",
       "    <tr>\n",
       "      <th>SAL</th>\n",
       "      <td>0.581641</td>\n",
       "      <td>-0.414774</td>\n",
       "    </tr>\n",
       "    <tr>\n",
       "      <th>SAM</th>\n",
       "      <td>0.901023</td>\n",
       "      <td>-0.613449</td>\n",
       "    </tr>\n",
       "    <tr>\n",
       "      <th>SAS</th>\n",
       "      <td>1.237014</td>\n",
       "      <td>-0.549062</td>\n",
       "    </tr>\n",
       "    <tr>\n",
       "      <th>SPE</th>\n",
       "      <td>0.794583</td>\n",
       "      <td>-0.502445</td>\n",
       "    </tr>\n",
       "    <tr>\n",
       "      <th>TOR</th>\n",
       "      <td>0.878615</td>\n",
       "      <td>-1.047316</td>\n",
       "    </tr>\n",
       "    <tr>\n",
       "      <th>UDI</th>\n",
       "      <td>1.179792</td>\n",
       "      <td>-0.681619</td>\n",
       "    </tr>\n",
       "    <tr>\n",
       "      <th>LEC</th>\n",
       "      <td>0.605213</td>\n",
       "      <td>-0.535237</td>\n",
       "    </tr>\n",
       "    <tr>\n",
       "      <th>VER</th>\n",
       "      <td>1.245006</td>\n",
       "      <td>-0.660790</td>\n",
       "    </tr>\n",
       "  </tbody>\n",
       "</table>\n",
       "</div>"
      ],
      "text/plain": [
       "         Atk_Params  Def_Params\n",
       "Squadra                        \n",
       "ATA        1.237182   -0.864092\n",
       "BOL        0.854800   -0.749950\n",
       "MON        0.606601   -0.548694\n",
       "EMP        0.997852   -0.505108\n",
       "FIO        1.138049   -0.819373\n",
       "CRE        0.373825   -0.676658\n",
       "INT        1.479094   -1.254770\n",
       "JUV        1.091228   -1.139555\n",
       "LAZ        1.417609   -0.666181\n",
       "MIL        1.280862   -1.306371\n",
       "NAP        1.345776   -1.302375\n",
       "ROM        1.135148   -0.987442\n",
       "SAL        0.581641   -0.414774\n",
       "SAM        0.901023   -0.613449\n",
       "SAS        1.237014   -0.549062\n",
       "SPE        0.794583   -0.502445\n",
       "TOR        0.878615   -1.047316\n",
       "UDI        1.179792   -0.681619\n",
       "LEC        0.605213   -0.535237\n",
       "VER        1.245006   -0.660790"
      ]
     },
     "execution_count": 123,
     "metadata": {},
     "output_type": "execute_result"
    }
   ],
   "source": [
    "dixon_coles"
   ]
  },
  {
   "cell_type": "code",
   "execution_count": 99,
   "metadata": {},
   "outputs": [],
   "source": [
    "calendario = calendario.merge(dixon_coles, left_on='HomeTeam',right_index=True).rename(columns={'Atk_Params':'HomeTeam_atk','Def_Params':'HomeTeam_def'})\n",
    "calendario = calendario.merge(dixon_coles, left_on='AwayTeam',right_index=True).rename(columns={'Atk_Params':'AwayTeam_atk','Def_Params':'AwayTeam_def'})"
   ]
  },
  {
   "cell_type": "code",
   "execution_count": 100,
   "metadata": {},
   "outputs": [],
   "source": [
    "calendario['atk_home'] = calendario['HomeTeam_atk'] + calendario['AwayTeam_def']\n",
    "calendario['atk_away'] = calendario['AwayTeam_atk'] + calendario['AwayTeam_def']"
   ]
  },
  {
   "cell_type": "code",
   "execution_count": 101,
   "metadata": {},
   "outputs": [],
   "source": [
    "home_atk_giornate = calendario.groupby(['Giornata','HomeTeam'])['atk_home'].mean()\n",
    "away_atk_giornate = calendario.groupby(['Giornata','AwayTeam'])['atk_away'].mean()"
   ]
  },
  {
   "cell_type": "code",
   "execution_count": 119,
   "metadata": {},
   "outputs": [],
   "source": [
    "calendario_explode = pd.concat([home_atk_giornate, away_atk_giornate]).reset_index().rename(columns={0:'atk','HomeTeam':'Squadra'})"
   ]
  },
  {
   "cell_type": "code",
   "execution_count": 120,
   "metadata": {},
   "outputs": [],
   "source": [
    "atk_pivoted = calendario_explode.pivot('Giornata','Squadra','atk')"
   ]
  },
  {
   "cell_type": "code",
   "execution_count": null,
   "metadata": {},
   "outputs": [],
   "source": []
  }
 ],
 "metadata": {
  "kernelspec": {
   "display_name": "Python 3",
   "language": "python",
   "name": "python3"
  },
  "language_info": {
   "codemirror_mode": {
    "name": "ipython",
    "version": 3
   },
   "file_extension": ".py",
   "mimetype": "text/x-python",
   "name": "python",
   "nbconvert_exporter": "python",
   "pygments_lexer": "ipython3",
   "version": "3.8.3"
  }
 },
 "nbformat": 4,
 "nbformat_minor": 4
}
