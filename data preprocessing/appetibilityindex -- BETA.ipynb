{
 "cells": [
  {
   "cell_type": "code",
   "execution_count": 1,
   "metadata": {},
   "outputs": [],
   "source": [
    "import pandas as pd\n",
    "import numpy as np\n",
    "from downloaded_data_preprocessing import appetibility_index"
   ]
  },
  {
   "cell_type": "code",
   "execution_count": 2,
   "metadata": {},
   "outputs": [],
   "source": [
    "history_original = pd.read_csv('../dataset/player_history^(Stagione 2021_22).csv',index_col=[0])"
   ]
  },
  {
   "cell_type": "code",
   "execution_count": 3,
   "metadata": {},
   "outputs": [],
   "source": [
    "dixon_coles = pd.read_csv('../dataset/dixon_coles^(Stagione 2021_22).csv',index_col=[0])"
   ]
  },
  {
   "cell_type": "code",
   "execution_count": 4,
   "metadata": {},
   "outputs": [],
   "source": [
    "player_info = pd.read_csv('../dataset/stat_info^(Stagione 2021_22).csv',index_col=[0])"
   ]
  },
  {
   "cell_type": "code",
   "execution_count": 5,
   "metadata": {},
   "outputs": [
    {
     "name": "stderr",
     "output_type": "stream",
     "text": [
      "C:\\Users\\dando\\OneDrive\\Desktop\\FantaStat\\data preprocessing\\downloaded_data_preprocessing.py:157: SettingWithCopyWarning: \n",
      "A value is trying to be set on a copy of a slice from a DataFrame.\n",
      "Try using .loc[row_indexer,col_indexer] = value instead\n",
      "\n",
      "See the caveats in the documentation: https://pandas.pydata.org/pandas-docs/stable/user_guide/indexing.html#returning-a-view-versus-a-copy\n",
      "  ha_gol_subito['Gs'] = (ha_gol_subito['Gs']>0)\n"
     ]
    }
   ],
   "source": [
    "propensity_df = appetibility_index(history_original, dixon_coles, player_info)"
   ]
  },
  {
   "cell_type": "code",
   "execution_count": 6,
   "metadata": {},
   "outputs": [
    {
     "data": {
      "text/html": [
       "<div>\n",
       "<style scoped>\n",
       "    .dataframe tbody tr th:only-of-type {\n",
       "        vertical-align: middle;\n",
       "    }\n",
       "\n",
       "    .dataframe tbody tr th {\n",
       "        vertical-align: top;\n",
       "    }\n",
       "\n",
       "    .dataframe thead th {\n",
       "        text-align: right;\n",
       "    }\n",
       "</style>\n",
       "<table border=\"1\" class=\"dataframe\">\n",
       "  <thead>\n",
       "    <tr style=\"text-align: right;\">\n",
       "      <th></th>\n",
       "      <th>easy_gambe_bonus</th>\n",
       "      <th>Amm</th>\n",
       "      <th>Esp</th>\n",
       "      <th>ha_bonus</th>\n",
       "      <th>ha_voto</th>\n",
       "      <th>Infortunato</th>\n",
       "      <th>Gs</th>\n",
       "      <th>Nome</th>\n",
       "      <th>Ruolo</th>\n",
       "    </tr>\n",
       "  </thead>\n",
       "  <tbody>\n",
       "    <tr>\n",
       "      <th>207</th>\n",
       "      <td>0.308670</td>\n",
       "      <td>0.714286</td>\n",
       "      <td>1.0</td>\n",
       "      <td>0.956522</td>\n",
       "      <td>0.815789</td>\n",
       "      <td>0.837838</td>\n",
       "      <td>1.0</td>\n",
       "      <td>Immobile Ciro</td>\n",
       "      <td>A</td>\n",
       "    </tr>\n",
       "    <tr>\n",
       "      <th>0</th>\n",
       "      <td>0.258297</td>\n",
       "      <td>0.357143</td>\n",
       "      <td>1.0</td>\n",
       "      <td>0.695652</td>\n",
       "      <td>0.973684</td>\n",
       "      <td>1.000000</td>\n",
       "      <td>1.0</td>\n",
       "      <td>Abraham Tammy</td>\n",
       "      <td>A</td>\n",
       "    </tr>\n",
       "    <tr>\n",
       "      <th>407</th>\n",
       "      <td>0.238195</td>\n",
       "      <td>0.500000</td>\n",
       "      <td>1.0</td>\n",
       "      <td>0.565217</td>\n",
       "      <td>0.842105</td>\n",
       "      <td>1.000000</td>\n",
       "      <td>1.0</td>\n",
       "      <td>Scamacca Gianluca</td>\n",
       "      <td>A</td>\n",
       "    </tr>\n",
       "    <tr>\n",
       "      <th>277</th>\n",
       "      <td>0.238044</td>\n",
       "      <td>0.571429</td>\n",
       "      <td>1.0</td>\n",
       "      <td>0.739130</td>\n",
       "      <td>0.868421</td>\n",
       "      <td>1.000000</td>\n",
       "      <td>1.0</td>\n",
       "      <td>Martinez Lautaro</td>\n",
       "      <td>A</td>\n",
       "    </tr>\n",
       "    <tr>\n",
       "      <th>352</th>\n",
       "      <td>0.235492</td>\n",
       "      <td>0.714286</td>\n",
       "      <td>1.0</td>\n",
       "      <td>0.521739</td>\n",
       "      <td>0.947368</td>\n",
       "      <td>1.000000</td>\n",
       "      <td>1.0</td>\n",
       "      <td>Pinamonti Andrea</td>\n",
       "      <td>A</td>\n",
       "    </tr>\n",
       "  </tbody>\n",
       "</table>\n",
       "</div>"
      ],
      "text/plain": [
       "     easy_gambe_bonus       Amm  Esp  ha_bonus   ha_voto  Infortunato   Gs  \\\n",
       "207          0.308670  0.714286  1.0  0.956522  0.815789     0.837838  1.0   \n",
       "0            0.258297  0.357143  1.0  0.695652  0.973684     1.000000  1.0   \n",
       "407          0.238195  0.500000  1.0  0.565217  0.842105     1.000000  1.0   \n",
       "277          0.238044  0.571429  1.0  0.739130  0.868421     1.000000  1.0   \n",
       "352          0.235492  0.714286  1.0  0.521739  0.947368     1.000000  1.0   \n",
       "\n",
       "                  Nome Ruolo  \n",
       "207      Immobile Ciro     A  \n",
       "0        Abraham Tammy     A  \n",
       "407  Scamacca Gianluca     A  \n",
       "277   Martinez Lautaro     A  \n",
       "352   Pinamonti Andrea     A  "
      ]
     },
     "execution_count": 6,
     "metadata": {},
     "output_type": "execute_result"
    }
   ],
   "source": [
    "propensity_df.head()"
   ]
  },
  {
   "cell_type": "code",
   "execution_count": 51,
   "metadata": {},
   "outputs": [],
   "source": []
  },
  {
   "cell_type": "code",
   "execution_count": 52,
   "metadata": {},
   "outputs": [],
   "source": []
  },
  {
   "cell_type": "code",
   "execution_count": 55,
   "metadata": {},
   "outputs": [
    {
     "data": {
      "text/html": [
       "<div>\n",
       "<style scoped>\n",
       "    .dataframe tbody tr th:only-of-type {\n",
       "        vertical-align: middle;\n",
       "    }\n",
       "\n",
       "    .dataframe tbody tr th {\n",
       "        vertical-align: top;\n",
       "    }\n",
       "\n",
       "    .dataframe thead th {\n",
       "        text-align: right;\n",
       "    }\n",
       "</style>\n",
       "<table border=\"1\" class=\"dataframe\">\n",
       "  <thead>\n",
       "    <tr style=\"text-align: right;\">\n",
       "      <th></th>\n",
       "      <th>Ruolo</th>\n",
       "      <th>Nome</th>\n",
       "      <th>appetibility</th>\n",
       "    </tr>\n",
       "  </thead>\n",
       "  <tbody>\n",
       "    <tr>\n",
       "      <th>45</th>\n",
       "      <td>C</td>\n",
       "      <td>Mkhitaryan Henrikh</td>\n",
       "      <td>0.631489</td>\n",
       "    </tr>\n",
       "    <tr>\n",
       "      <th>112</th>\n",
       "      <td>C</td>\n",
       "      <td>Barella Nicolò</td>\n",
       "      <td>0.646020</td>\n",
       "    </tr>\n",
       "    <tr>\n",
       "      <th>37</th>\n",
       "      <td>C</td>\n",
       "      <td>Bajrami Nedim</td>\n",
       "      <td>0.648406</td>\n",
       "    </tr>\n",
       "    <tr>\n",
       "      <th>47</th>\n",
       "      <td>C</td>\n",
       "      <td>Ruiz Fabian</td>\n",
       "      <td>0.653228</td>\n",
       "    </tr>\n",
       "    <tr>\n",
       "      <th>55</th>\n",
       "      <td>C</td>\n",
       "      <td>Candreva Antonio</td>\n",
       "      <td>0.656424</td>\n",
       "    </tr>\n",
       "    <tr>\n",
       "      <th>54</th>\n",
       "      <td>C</td>\n",
       "      <td>Zielinski Piotr</td>\n",
       "      <td>0.669835</td>\n",
       "    </tr>\n",
       "    <tr>\n",
       "      <th>24</th>\n",
       "      <td>C</td>\n",
       "      <td>Perisic Ivan</td>\n",
       "      <td>0.712120</td>\n",
       "    </tr>\n",
       "    <tr>\n",
       "      <th>42</th>\n",
       "      <td>C</td>\n",
       "      <td>Felipe Anderson</td>\n",
       "      <td>0.717702</td>\n",
       "    </tr>\n",
       "    <tr>\n",
       "      <th>22</th>\n",
       "      <td>C</td>\n",
       "      <td>Pasalic Mario</td>\n",
       "      <td>0.726152</td>\n",
       "    </tr>\n",
       "    <tr>\n",
       "      <th>11</th>\n",
       "      <td>C</td>\n",
       "      <td>Milinkovic-Savic Sergej</td>\n",
       "      <td>0.817498</td>\n",
       "    </tr>\n",
       "  </tbody>\n",
       "</table>\n",
       "</div>"
      ],
      "text/plain": [
       "    Ruolo                     Nome  appetibility\n",
       "45      C       Mkhitaryan Henrikh      0.631489\n",
       "112     C           Barella Nicolò      0.646020\n",
       "37      C            Bajrami Nedim      0.648406\n",
       "47      C              Ruiz Fabian      0.653228\n",
       "55      C         Candreva Antonio      0.656424\n",
       "54      C          Zielinski Piotr      0.669835\n",
       "24      C             Perisic Ivan      0.712120\n",
       "42      C          Felipe Anderson      0.717702\n",
       "22      C            Pasalic Mario      0.726152\n",
       "11      C  Milinkovic-Savic Sergej      0.817498"
      ]
     },
     "execution_count": 55,
     "metadata": {},
     "output_type": "execute_result"
    }
   ],
   "source": [
    "appettiblity.loc[appettiblity.Ruolo=='C'].sort_values('appetibility').tail(10)"
   ]
  },
  {
   "cell_type": "code",
   "execution_count": null,
   "metadata": {},
   "outputs": [],
   "source": []
  },
  {
   "cell_type": "code",
   "execution_count": null,
   "metadata": {},
   "outputs": [],
   "source": []
  }
 ],
 "metadata": {
  "kernelspec": {
   "display_name": "Python 3",
   "language": "python",
   "name": "python3"
  },
  "language_info": {
   "codemirror_mode": {
    "name": "ipython",
    "version": 3
   },
   "file_extension": ".py",
   "mimetype": "text/x-python",
   "name": "python",
   "nbconvert_exporter": "python",
   "pygments_lexer": "ipython3",
   "version": "3.8.3"
  }
 },
 "nbformat": 4,
 "nbformat_minor": 4
}
