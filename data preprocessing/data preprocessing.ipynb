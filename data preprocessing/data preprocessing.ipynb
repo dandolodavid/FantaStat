{
 "cells": [
  {
   "cell_type": "code",
   "execution_count": 1,
   "metadata": {},
   "outputs": [],
   "source": [
    "import pandas as pd\n",
    "import numpy as np\n",
    "from tqdm import tqdm"
   ]
  },
  {
   "cell_type": "code",
   "execution_count": 2,
   "metadata": {},
   "outputs": [],
   "source": [
    "from os import listdir\n",
    "from os.path import isfile, join\n",
    "from downloaded_data_preprocessing import info_extraction"
   ]
  },
  {
   "cell_type": "markdown",
   "metadata": {},
   "source": [
    "### READ ALL FILE"
   ]
  },
  {
   "cell_type": "code",
   "execution_count": 3,
   "metadata": {},
   "outputs": [],
   "source": [
    "mypath = '../scraping/data_download'"
   ]
  },
  {
   "cell_type": "code",
   "execution_count": 4,
   "metadata": {},
   "outputs": [],
   "source": [
    "onlyfiles = [f for f in listdir(mypath) if isfile(join(mypath, f))]"
   ]
  },
  {
   "cell_type": "markdown",
   "metadata": {},
   "source": [
    "### EXTRA INFO "
   ]
  },
  {
   "cell_type": "code",
   "execution_count": 5,
   "metadata": {},
   "outputs": [],
   "source": [
    "import json \n",
    "\n",
    "img_list = []\n",
    "f = open(\"../scraping/status_img_download/img_src.txt\", \"r\")\n",
    "while f:\n",
    "    line  = f.readline()\n",
    "    if line!= ' ' and line!='':\n",
    "        img_list.append(json.loads(line.replace('\\n','')))\n",
    "    if line == \"\":\n",
    "            break\n",
    "f.close() "
   ]
  },
  {
   "cell_type": "code",
   "execution_count": 6,
   "metadata": {},
   "outputs": [],
   "source": [
    "extra_data = pd.DataFrame(img_list)"
   ]
  },
  {
   "cell_type": "code",
   "execution_count": 7,
   "metadata": {
    "scrolled": true
   },
   "outputs": [
    {
     "data": {
      "text/html": [
       "<div>\n",
       "<style scoped>\n",
       "    .dataframe tbody tr th:only-of-type {\n",
       "        vertical-align: middle;\n",
       "    }\n",
       "\n",
       "    .dataframe tbody tr th {\n",
       "        vertical-align: top;\n",
       "    }\n",
       "\n",
       "    .dataframe thead th {\n",
       "        text-align: right;\n",
       "    }\n",
       "</style>\n",
       "<table border=\"1\" class=\"dataframe\">\n",
       "  <thead>\n",
       "    <tr style=\"text-align: right;\">\n",
       "      <th></th>\n",
       "      <th>Stagione</th>\n",
       "      <th>Nome</th>\n",
       "      <th>Id</th>\n",
       "      <th>Ruolo</th>\n",
       "      <th>Squadra</th>\n",
       "      <th>Src</th>\n",
       "    </tr>\n",
       "  </thead>\n",
       "  <tbody>\n",
       "    <tr>\n",
       "      <th>0</th>\n",
       "      <td>2021_22</td>\n",
       "      <td>Adamonis Marius</td>\n",
       "      <td>5502</td>\n",
       "      <td>P</td>\n",
       "      <td>Lazio</td>\n",
       "      <td>https://content.fantacalcio.it/web/campioncini...</td>\n",
       "    </tr>\n",
       "    <tr>\n",
       "      <th>1</th>\n",
       "      <td>2021_22</td>\n",
       "      <td>Aresti Simone</td>\n",
       "      <td>1946</td>\n",
       "      <td>P</td>\n",
       "      <td>Cagliari</td>\n",
       "      <td>https://content.fantacalcio.it/web/campioncini...</td>\n",
       "    </tr>\n",
       "    <tr>\n",
       "      <th>2</th>\n",
       "      <td>2021_22</td>\n",
       "      <td>Audero Emil</td>\n",
       "      <td>761</td>\n",
       "      <td>P</td>\n",
       "      <td>Sampdoria</td>\n",
       "      <td>https://content.fantacalcio.it/web/campioncini...</td>\n",
       "    </tr>\n",
       "    <tr>\n",
       "      <th>3</th>\n",
       "      <td>2021_22</td>\n",
       "      <td>Bardi Francesco</td>\n",
       "      <td>799</td>\n",
       "      <td>P</td>\n",
       "      <td>Bologna</td>\n",
       "      <td>https://content.fantacalcio.it/web/campioncini...</td>\n",
       "    </tr>\n",
       "    <tr>\n",
       "      <th>4</th>\n",
       "      <td>2021_22</td>\n",
       "      <td>Belec Vid</td>\n",
       "      <td>720</td>\n",
       "      <td>P</td>\n",
       "      <td>Salernitana</td>\n",
       "      <td>https://content.fantacalcio.it/web/campioncini...</td>\n",
       "    </tr>\n",
       "  </tbody>\n",
       "</table>\n",
       "</div>"
      ],
      "text/plain": [
       "  Stagione             Nome    Id Ruolo      Squadra  \\\n",
       "0  2021_22  Adamonis Marius  5502     P        Lazio   \n",
       "1  2021_22    Aresti Simone  1946     P     Cagliari   \n",
       "2  2021_22      Audero Emil   761     P    Sampdoria   \n",
       "3  2021_22  Bardi Francesco   799     P      Bologna   \n",
       "4  2021_22        Belec Vid   720     P  Salernitana   \n",
       "\n",
       "                                                 Src  \n",
       "0  https://content.fantacalcio.it/web/campioncini...  \n",
       "1  https://content.fantacalcio.it/web/campioncini...  \n",
       "2  https://content.fantacalcio.it/web/campioncini...  \n",
       "3  https://content.fantacalcio.it/web/campioncini...  \n",
       "4  https://content.fantacalcio.it/web/campioncini...  "
      ]
     },
     "execution_count": 7,
     "metadata": {},
     "output_type": "execute_result"
    }
   ],
   "source": [
    "extra_data.head()"
   ]
  },
  {
   "cell_type": "markdown",
   "metadata": {},
   "source": [
    "### CREATE DATAFRAME FOR EACH PLAYER"
   ]
  },
  {
   "cell_type": "code",
   "execution_count": 8,
   "metadata": {},
   "outputs": [],
   "source": [
    "dfs_info = []\n",
    "dfs_data = []"
   ]
  },
  {
   "cell_type": "code",
   "execution_count": 9,
   "metadata": {},
   "outputs": [
    {
     "data": {
      "text/plain": [
       "499"
      ]
     },
     "execution_count": 9,
     "metadata": {},
     "output_type": "execute_result"
    }
   ],
   "source": [
    "len(onlyfiles)"
   ]
  },
  {
   "cell_type": "code",
   "execution_count": 10,
   "metadata": {
    "scrolled": false
   },
   "outputs": [
    {
     "name": "stderr",
     "output_type": "stream",
     "text": [
      "100%|█████████████████████████████████████████████████████████████████████████████████████████████████████████████████████████████████████████████████████████████████████████████████████████████████████| 499/499 [00:27<00:00, 18.22it/s]\n"
     ]
    }
   ],
   "source": [
    "for file in tqdm(onlyfiles):\n",
    "    \n",
    "    stagione = file.split('^')[1].split(' ')[1].split(')')[0]\n",
    "    nome = file.replace('^(Stagione '+stagione+').xlsx','')\n",
    "    data = pd.read_excel(mypath + '/' +file, skiprows=[0,1]).rename(columns={'Unnamed: 1':'Partita'})\n",
    "    status = pd.read_csv('../scraping/status_img_download/'+nome+'^(Status ' + stagione +').csv',index_col=[0])\n",
    "    \n",
    "    data['Ruolo'] = extra_data.loc[extra_data.Nome == nome,'Ruolo'].values[0]\n",
    "    data['Squadra'] = extra_data.loc[extra_data.Nome == nome,'Squadra'].values[0]\n",
    "    data['Id'] = extra_data.loc[extra_data.Nome == nome,'Id'].values[0]\n",
    "    data = data.merge(status, left_on='Giornata', right_on='Giornata')\n",
    "\n",
    "    info,table = info_extraction(data,nome,stagione)\n",
    "    \n",
    "    img = extra_data.loc[extra_data.Nome == nome,'Src'].values[0]\n",
    "    info['img'] = img\n",
    "    \n",
    "    dfs_info.append(info)\n",
    "    dfs_data.append(table)"
   ]
  },
  {
   "cell_type": "code",
   "execution_count": 11,
   "metadata": {},
   "outputs": [],
   "source": [
    "player_info = pd.DataFrame(pd.concat(dfs_info))\n",
    "player_info.index = range(0,len(player_info))"
   ]
  },
  {
   "cell_type": "code",
   "execution_count": 12,
   "metadata": {},
   "outputs": [],
   "source": [
    "player_history = pd.DataFrame(pd.concat(dfs_data))\n",
    "player_history.index = range(0,len(player_history))"
   ]
  },
  {
   "cell_type": "code",
   "execution_count": 13,
   "metadata": {},
   "outputs": [],
   "source": [
    "player_history.fillna(0).to_csv('../dataset/player_history^(Stagione '+stagione+').csv')"
   ]
  },
  {
   "cell_type": "markdown",
   "metadata": {},
   "source": [
    "### ADD INFO OF BAD URLS PLAYER"
   ]
  },
  {
   "cell_type": "code",
   "execution_count": 14,
   "metadata": {},
   "outputs": [],
   "source": [
    "import json \n",
    "\n",
    "error_scraping_player = []\n",
    "f = open(\"../scraping/status_img_download/error_scraping_player.txt\", \"r\")\n",
    "while f:\n",
    "    line  = f.readline()\n",
    "    if line!= ' ' and line!='':\n",
    "        error_scraping_player.append(json.loads(line.replace('\\n','')))\n",
    "    if line == \"\":\n",
    "            break\n",
    "f.close() "
   ]
  },
  {
   "cell_type": "code",
   "execution_count": 15,
   "metadata": {},
   "outputs": [],
   "source": [
    "error_scraping_player_df = pd.DataFrame(error_scraping_player).drop_duplicates()"
   ]
  },
  {
   "cell_type": "code",
   "execution_count": 16,
   "metadata": {},
   "outputs": [],
   "source": [
    "error_scraping_player_df = error_scraping_player_df.rename(columns={'Src':'img'})"
   ]
  },
  {
   "cell_type": "code",
   "execution_count": 17,
   "metadata": {},
   "outputs": [],
   "source": [
    "error_scraping_player_df['Gol subiti'] = error_scraping_player_df['Gol']\n",
    "error_scraping_player_df.loc[error_scraping_player_df['Ruolo'] == 'P', 'Gol' ] = 0\n",
    "error_scraping_player_df.loc[error_scraping_player_df['Ruolo'] != 'P', 'Gol subiti' ] = 0"
   ]
  },
  {
   "cell_type": "code",
   "execution_count": 18,
   "metadata": {},
   "outputs": [],
   "source": [
    "for c in player_info.columns.tolist():\n",
    "    if c not in error_scraping_player_df.columns:\n",
    "        error_scraping_player_df[c] = None"
   ]
  },
  {
   "cell_type": "code",
   "execution_count": 19,
   "metadata": {},
   "outputs": [],
   "source": [
    "player_info = pd.concat([player_info, error_scraping_player_df])\n",
    "player_info = player_info.set_index('Id')"
   ]
  },
  {
   "cell_type": "code",
   "execution_count": 22,
   "metadata": {},
   "outputs": [],
   "source": [
    "player_info.fillna(0).to_csv('../dataset/player_info^(Stagione '+stagione+').csv')"
   ]
  },
  {
   "cell_type": "code",
   "execution_count": null,
   "metadata": {},
   "outputs": [],
   "source": []
  }
 ],
 "metadata": {
  "kernelspec": {
   "display_name": "Python 3",
   "language": "python",
   "name": "python3"
  },
  "language_info": {
   "codemirror_mode": {
    "name": "ipython",
    "version": 3
   },
   "file_extension": ".py",
   "mimetype": "text/x-python",
   "name": "python",
   "nbconvert_exporter": "python",
   "pygments_lexer": "ipython3",
   "version": "3.8.3"
  }
 },
 "nbformat": 4,
 "nbformat_minor": 4
}
