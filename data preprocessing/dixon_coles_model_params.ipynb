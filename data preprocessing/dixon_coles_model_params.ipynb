{
 "cells": [
  {
   "cell_type": "code",
   "execution_count": 10,
   "metadata": {},
   "outputs": [],
   "source": [
    "import pandas as pd\n",
    "import numpy as np\n",
    "from dixon_coles_model import solve_parameters\n",
    "#https://www.football-data.co.uk/italym.php"
   ]
  },
  {
   "cell_type": "code",
   "execution_count": 39,
   "metadata": {},
   "outputs": [],
   "source": [
    "data = pd.read_csv('https://www.football-data.co.uk/mmz4281/2122/I1.csv',index_col=[0])"
   ]
  },
  {
   "cell_type": "code",
   "execution_count": 40,
   "metadata": {},
   "outputs": [],
   "source": [
    "model_data = data[['Date','HomeTeam','AwayTeam','FTHG','FTAG']].rename(columns= {'FTHG':'HomeGol','FTAG':'AwayGol'})"
   ]
  },
  {
   "cell_type": "code",
   "execution_count": 41,
   "metadata": {
    "scrolled": true
   },
   "outputs": [
    {
     "name": "stderr",
     "output_type": "stream",
     "text": [
      "C:\\Users\\dando\\OneDrive\\Desktop\\FantaStat\\data preprocessing\\dixon_coles_model.py:25: RuntimeWarning: divide by zero encountered in log\n",
      "  return ( np.exp(-xi*t) * np.log(rho_correction(x, y, lambda_x, lambda_y, rho) ) +  np.log(poisson_density(x, lambda_x) ) + np.log(poisson_density(y, lambda_y) ) )\n",
      "C:\\Users\\dando\\OneDrive\\Desktop\\FantaStat\\data preprocessing\\dixon_coles_model.py:25: RuntimeWarning: invalid value encountered in log\n",
      "  return ( np.exp(-xi*t) * np.log(rho_correction(x, y, lambda_x, lambda_y, rho) ) +  np.log(poisson_density(x, lambda_x) ) + np.log(poisson_density(y, lambda_y) ) )\n",
      "C:\\Users\\dando\\OneDrive\\Desktop\\FantaStat\\data preprocessing\\dixon_coles_model.py:8: RuntimeWarning: overflow encountered in double_scalars\n",
      "  return np.exp(-lam) * lam**x/ math.factorial(x)\n",
      "C:\\Users\\dando\\OneDrive\\Desktop\\FantaStat\\data preprocessing\\dixon_coles_model.py:8: RuntimeWarning: invalid value encountered in double_scalars\n",
      "  return np.exp(-lam) * lam**x/ math.factorial(x)\n"
     ]
    },
    {
     "name": "stdout",
     "output_type": "stream",
     "text": [
      "Optimization terminated successfully    (Exit mode 0)\n",
      "            Current function value: 1074.8862475607789\n",
      "            Iterations: 49\n",
      "            Function evaluations: 2185\n",
      "            Gradient evaluations: 49\n"
     ]
    }
   ],
   "source": [
    "coef_df, rho, home = solve_parameters(model_data,xi=0.0015)"
   ]
  },
  {
   "cell_type": "code",
   "execution_count": 42,
   "metadata": {},
   "outputs": [],
   "source": [
    "coef_df = coef_df.reset_index()\n",
    "coef_df['name'] = coef_df['index'].apply(lambda x: x.upper()[0:3])\n",
    "coef_df = coef_df.set_index('index')\n",
    "coef_df.index.name = None"
   ]
  },
  {
   "cell_type": "code",
   "execution_count": 43,
   "metadata": {},
   "outputs": [],
   "source": [
    "coef_df.to_csv('../dataset/dixon_coles^(Stagione 2021_22).csv')"
   ]
  },
  {
   "cell_type": "code",
   "execution_count": 44,
   "metadata": {},
   "outputs": [
    {
     "data": {
      "text/html": [
       "<div>\n",
       "<style scoped>\n",
       "    .dataframe tbody tr th:only-of-type {\n",
       "        vertical-align: middle;\n",
       "    }\n",
       "\n",
       "    .dataframe tbody tr th {\n",
       "        vertical-align: top;\n",
       "    }\n",
       "\n",
       "    .dataframe thead th {\n",
       "        text-align: right;\n",
       "    }\n",
       "</style>\n",
       "<table border=\"1\" class=\"dataframe\">\n",
       "  <thead>\n",
       "    <tr style=\"text-align: right;\">\n",
       "      <th></th>\n",
       "      <th>Atk_Params</th>\n",
       "      <th>Def_Params</th>\n",
       "      <th>name</th>\n",
       "    </tr>\n",
       "  </thead>\n",
       "  <tbody>\n",
       "    <tr>\n",
       "      <th>Atalanta</th>\n",
       "      <td>1.237182</td>\n",
       "      <td>-0.864117</td>\n",
       "      <td>ATA</td>\n",
       "    </tr>\n",
       "    <tr>\n",
       "      <th>Bologna</th>\n",
       "      <td>0.854775</td>\n",
       "      <td>-0.749989</td>\n",
       "      <td>BOL</td>\n",
       "    </tr>\n",
       "    <tr>\n",
       "      <th>Cagliari</th>\n",
       "      <td>0.606649</td>\n",
       "      <td>-0.548742</td>\n",
       "      <td>CAG</td>\n",
       "    </tr>\n",
       "    <tr>\n",
       "      <th>Empoli</th>\n",
       "      <td>0.997796</td>\n",
       "      <td>-0.505148</td>\n",
       "      <td>EMP</td>\n",
       "    </tr>\n",
       "    <tr>\n",
       "      <th>Fiorentina</th>\n",
       "      <td>1.137957</td>\n",
       "      <td>-0.819265</td>\n",
       "      <td>FIO</td>\n",
       "    </tr>\n",
       "    <tr>\n",
       "      <th>Genoa</th>\n",
       "      <td>0.373810</td>\n",
       "      <td>-0.676543</td>\n",
       "      <td>GEN</td>\n",
       "    </tr>\n",
       "    <tr>\n",
       "      <th>Inter</th>\n",
       "      <td>1.479103</td>\n",
       "      <td>-1.254817</td>\n",
       "      <td>INT</td>\n",
       "    </tr>\n",
       "    <tr>\n",
       "      <th>Juventus</th>\n",
       "      <td>1.091286</td>\n",
       "      <td>-1.139558</td>\n",
       "      <td>JUV</td>\n",
       "    </tr>\n",
       "    <tr>\n",
       "      <th>Lazio</th>\n",
       "      <td>1.417596</td>\n",
       "      <td>-0.666281</td>\n",
       "      <td>LAZ</td>\n",
       "    </tr>\n",
       "    <tr>\n",
       "      <th>Milan</th>\n",
       "      <td>1.280849</td>\n",
       "      <td>-1.306449</td>\n",
       "      <td>MIL</td>\n",
       "    </tr>\n",
       "    <tr>\n",
       "      <th>Napoli</th>\n",
       "      <td>1.345773</td>\n",
       "      <td>-1.302340</td>\n",
       "      <td>NAP</td>\n",
       "    </tr>\n",
       "    <tr>\n",
       "      <th>Roma</th>\n",
       "      <td>1.135127</td>\n",
       "      <td>-0.987415</td>\n",
       "      <td>ROM</td>\n",
       "    </tr>\n",
       "    <tr>\n",
       "      <th>Salernitana</th>\n",
       "      <td>0.581677</td>\n",
       "      <td>-0.414760</td>\n",
       "      <td>SAL</td>\n",
       "    </tr>\n",
       "    <tr>\n",
       "      <th>Sampdoria</th>\n",
       "      <td>0.901049</td>\n",
       "      <td>-0.613438</td>\n",
       "      <td>SAM</td>\n",
       "    </tr>\n",
       "    <tr>\n",
       "      <th>Sassuolo</th>\n",
       "      <td>1.237090</td>\n",
       "      <td>-0.549057</td>\n",
       "      <td>SAS</td>\n",
       "    </tr>\n",
       "    <tr>\n",
       "      <th>Spezia</th>\n",
       "      <td>0.794625</td>\n",
       "      <td>-0.502443</td>\n",
       "      <td>SPE</td>\n",
       "    </tr>\n",
       "    <tr>\n",
       "      <th>Torino</th>\n",
       "      <td>0.878561</td>\n",
       "      <td>-1.047360</td>\n",
       "      <td>TOR</td>\n",
       "    </tr>\n",
       "    <tr>\n",
       "      <th>Udinese</th>\n",
       "      <td>1.179737</td>\n",
       "      <td>-0.681603</td>\n",
       "      <td>UDI</td>\n",
       "    </tr>\n",
       "    <tr>\n",
       "      <th>Venezia</th>\n",
       "      <td>0.605243</td>\n",
       "      <td>-0.535292</td>\n",
       "      <td>VEN</td>\n",
       "    </tr>\n",
       "    <tr>\n",
       "      <th>Verona</th>\n",
       "      <td>1.245075</td>\n",
       "      <td>-0.660682</td>\n",
       "      <td>VER</td>\n",
       "    </tr>\n",
       "  </tbody>\n",
       "</table>\n",
       "</div>"
      ],
      "text/plain": [
       "             Atk_Params  Def_Params name\n",
       "Atalanta       1.237182   -0.864117  ATA\n",
       "Bologna        0.854775   -0.749989  BOL\n",
       "Cagliari       0.606649   -0.548742  CAG\n",
       "Empoli         0.997796   -0.505148  EMP\n",
       "Fiorentina     1.137957   -0.819265  FIO\n",
       "Genoa          0.373810   -0.676543  GEN\n",
       "Inter          1.479103   -1.254817  INT\n",
       "Juventus       1.091286   -1.139558  JUV\n",
       "Lazio          1.417596   -0.666281  LAZ\n",
       "Milan          1.280849   -1.306449  MIL\n",
       "Napoli         1.345773   -1.302340  NAP\n",
       "Roma           1.135127   -0.987415  ROM\n",
       "Salernitana    0.581677   -0.414760  SAL\n",
       "Sampdoria      0.901049   -0.613438  SAM\n",
       "Sassuolo       1.237090   -0.549057  SAS\n",
       "Spezia         0.794625   -0.502443  SPE\n",
       "Torino         0.878561   -1.047360  TOR\n",
       "Udinese        1.179737   -0.681603  UDI\n",
       "Venezia        0.605243   -0.535292  VEN\n",
       "Verona         1.245075   -0.660682  VER"
      ]
     },
     "execution_count": 44,
     "metadata": {},
     "output_type": "execute_result"
    }
   ],
   "source": [
    "coef_df"
   ]
  },
  {
   "cell_type": "code",
   "execution_count": null,
   "metadata": {},
   "outputs": [],
   "source": []
  }
 ],
 "metadata": {
  "kernelspec": {
   "display_name": "Python 3",
   "language": "python",
   "name": "python3"
  },
  "language_info": {
   "codemirror_mode": {
    "name": "ipython",
    "version": 3
   },
   "file_extension": ".py",
   "mimetype": "text/x-python",
   "name": "python",
   "nbconvert_exporter": "python",
   "pygments_lexer": "ipython3",
   "version": "3.8.3"
  }
 },
 "nbformat": 4,
 "nbformat_minor": 4
}
