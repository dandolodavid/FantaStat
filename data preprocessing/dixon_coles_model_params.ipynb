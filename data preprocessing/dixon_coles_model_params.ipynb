{
 "cells": [
  {
   "cell_type": "code",
   "execution_count": 1,
   "metadata": {},
   "outputs": [],
   "source": [
    "import pandas as pd\n",
    "import numpy as np\n",
    "from dixon_coles_model import solve_parameters\n",
    "#https://www.football-data.co.uk/italym.php"
   ]
  },
  {
   "cell_type": "code",
   "execution_count": 2,
   "metadata": {},
   "outputs": [],
   "source": [
    "data = pd.read_csv('https://www.football-data.co.uk/mmz4281/2122/I1.csv',index_col=[0])"
   ]
  },
  {
   "cell_type": "code",
   "execution_count": 3,
   "metadata": {},
   "outputs": [],
   "source": [
    "model_data = data[['Date','HomeTeam','AwayTeam','FTHG','FTAG']].rename(columns= {'FTHG':'HomeGol','FTAG':'AwayGol'})"
   ]
  },
  {
   "cell_type": "code",
   "execution_count": 4,
   "metadata": {
    "scrolled": true
   },
   "outputs": [
    {
     "name": "stderr",
     "output_type": "stream",
     "text": [
      "C:\\Users\\dando\\OneDrive\\Desktop\\FantaStat\\data preprocessing\\dixon_coles_model.py:25: RuntimeWarning: divide by zero encountered in log\n",
      "  return ( np.exp(-xi*t) * np.log(rho_correction(x, y, lambda_x, lambda_y, rho) ) +  np.log(poisson_density(x, lambda_x) ) + np.log(poisson_density(y, lambda_y) ) )\n",
      "C:\\Users\\dando\\OneDrive\\Desktop\\FantaStat\\data preprocessing\\dixon_coles_model.py:25: RuntimeWarning: invalid value encountered in log\n",
      "  return ( np.exp(-xi*t) * np.log(rho_correction(x, y, lambda_x, lambda_y, rho) ) +  np.log(poisson_density(x, lambda_x) ) + np.log(poisson_density(y, lambda_y) ) )\n"
     ]
    },
    {
     "name": "stdout",
     "output_type": "stream",
     "text": [
      "Optimization terminated successfully    (Exit mode 0)\n",
      "            Current function value: 1074.8862479169632\n",
      "            Iterations: 55\n",
      "            Function evaluations: 2448\n",
      "            Gradient evaluations: 55\n"
     ]
    }
   ],
   "source": [
    "coef_df, rho, home = solve_parameters(model_data,xi=0.0015)"
   ]
  },
  {
   "cell_type": "code",
   "execution_count": 5,
   "metadata": {},
   "outputs": [],
   "source": [
    "coef_df = coef_df.reset_index()\n",
    "coef_df['name'] = coef_df['index'].apply(lambda x: x.upper()[0:3])\n",
    "coef_df = coef_df.set_index('index')\n",
    "coef_df.index.name = None"
   ]
  },
  {
   "cell_type": "code",
   "execution_count": 6,
   "metadata": {},
   "outputs": [],
   "source": [
    "coef_df['Home'] = home"
   ]
  },
  {
   "cell_type": "code",
   "execution_count": 7,
   "metadata": {},
   "outputs": [],
   "source": [
    "coef_df.to_csv('../dataset/dixon_coles^(Stagione 2021_22).csv')"
   ]
  },
  {
   "cell_type": "code",
   "execution_count": 8,
   "metadata": {},
   "outputs": [
    {
     "data": {
      "text/html": [
       "<div>\n",
       "<style scoped>\n",
       "    .dataframe tbody tr th:only-of-type {\n",
       "        vertical-align: middle;\n",
       "    }\n",
       "\n",
       "    .dataframe tbody tr th {\n",
       "        vertical-align: top;\n",
       "    }\n",
       "\n",
       "    .dataframe thead th {\n",
       "        text-align: right;\n",
       "    }\n",
       "</style>\n",
       "<table border=\"1\" class=\"dataframe\">\n",
       "  <thead>\n",
       "    <tr style=\"text-align: right;\">\n",
       "      <th></th>\n",
       "      <th>Atk_Params</th>\n",
       "      <th>Def_Params</th>\n",
       "      <th>name</th>\n",
       "      <th>Home</th>\n",
       "    </tr>\n",
       "  </thead>\n",
       "  <tbody>\n",
       "    <tr>\n",
       "      <th>Atalanta</th>\n",
       "      <td>1.237224</td>\n",
       "      <td>-0.864037</td>\n",
       "      <td>ATA</td>\n",
       "      <td>0.09751</td>\n",
       "    </tr>\n",
       "    <tr>\n",
       "      <th>Bologna</th>\n",
       "      <td>0.854795</td>\n",
       "      <td>-0.749996</td>\n",
       "      <td>BOL</td>\n",
       "      <td>0.09751</td>\n",
       "    </tr>\n",
       "    <tr>\n",
       "      <th>Cagliari</th>\n",
       "      <td>0.606641</td>\n",
       "      <td>-0.548729</td>\n",
       "      <td>CAG</td>\n",
       "      <td>0.09751</td>\n",
       "    </tr>\n",
       "    <tr>\n",
       "      <th>Empoli</th>\n",
       "      <td>0.997796</td>\n",
       "      <td>-0.505162</td>\n",
       "      <td>EMP</td>\n",
       "      <td>0.09751</td>\n",
       "    </tr>\n",
       "    <tr>\n",
       "      <th>Fiorentina</th>\n",
       "      <td>1.137977</td>\n",
       "      <td>-0.819272</td>\n",
       "      <td>FIO</td>\n",
       "      <td>0.09751</td>\n",
       "    </tr>\n",
       "    <tr>\n",
       "      <th>Genoa</th>\n",
       "      <td>0.373842</td>\n",
       "      <td>-0.676471</td>\n",
       "      <td>GEN</td>\n",
       "      <td>0.09751</td>\n",
       "    </tr>\n",
       "    <tr>\n",
       "      <th>Inter</th>\n",
       "      <td>1.479103</td>\n",
       "      <td>-1.254799</td>\n",
       "      <td>INT</td>\n",
       "      <td>0.09751</td>\n",
       "    </tr>\n",
       "    <tr>\n",
       "      <th>Juventus</th>\n",
       "      <td>1.091241</td>\n",
       "      <td>-1.139553</td>\n",
       "      <td>JUV</td>\n",
       "      <td>0.09751</td>\n",
       "    </tr>\n",
       "    <tr>\n",
       "      <th>Lazio</th>\n",
       "      <td>1.417590</td>\n",
       "      <td>-0.666262</td>\n",
       "      <td>LAZ</td>\n",
       "      <td>0.09751</td>\n",
       "    </tr>\n",
       "    <tr>\n",
       "      <th>Milan</th>\n",
       "      <td>1.280866</td>\n",
       "      <td>-1.306375</td>\n",
       "      <td>MIL</td>\n",
       "      <td>0.09751</td>\n",
       "    </tr>\n",
       "    <tr>\n",
       "      <th>Napoli</th>\n",
       "      <td>1.345773</td>\n",
       "      <td>-1.302343</td>\n",
       "      <td>NAP</td>\n",
       "      <td>0.09751</td>\n",
       "    </tr>\n",
       "    <tr>\n",
       "      <th>Roma</th>\n",
       "      <td>1.135104</td>\n",
       "      <td>-0.987442</td>\n",
       "      <td>ROM</td>\n",
       "      <td>0.09751</td>\n",
       "    </tr>\n",
       "    <tr>\n",
       "      <th>Salernitana</th>\n",
       "      <td>0.581636</td>\n",
       "      <td>-0.414764</td>\n",
       "      <td>SAL</td>\n",
       "      <td>0.09751</td>\n",
       "    </tr>\n",
       "    <tr>\n",
       "      <th>Sampdoria</th>\n",
       "      <td>0.901045</td>\n",
       "      <td>-0.613511</td>\n",
       "      <td>SAM</td>\n",
       "      <td>0.09751</td>\n",
       "    </tr>\n",
       "    <tr>\n",
       "      <th>Sassuolo</th>\n",
       "      <td>1.237082</td>\n",
       "      <td>-0.549042</td>\n",
       "      <td>SAS</td>\n",
       "      <td>0.09751</td>\n",
       "    </tr>\n",
       "    <tr>\n",
       "      <th>Spezia</th>\n",
       "      <td>0.794788</td>\n",
       "      <td>-0.502437</td>\n",
       "      <td>SPE</td>\n",
       "      <td>0.09751</td>\n",
       "    </tr>\n",
       "    <tr>\n",
       "      <th>Torino</th>\n",
       "      <td>0.878493</td>\n",
       "      <td>-1.047473</td>\n",
       "      <td>TOR</td>\n",
       "      <td>0.09751</td>\n",
       "    </tr>\n",
       "    <tr>\n",
       "      <th>Udinese</th>\n",
       "      <td>1.179727</td>\n",
       "      <td>-0.681598</td>\n",
       "      <td>UDI</td>\n",
       "      <td>0.09751</td>\n",
       "    </tr>\n",
       "    <tr>\n",
       "      <th>Venezia</th>\n",
       "      <td>0.605239</td>\n",
       "      <td>-0.535258</td>\n",
       "      <td>VEN</td>\n",
       "      <td>0.09751</td>\n",
       "    </tr>\n",
       "    <tr>\n",
       "      <th>Verona</th>\n",
       "      <td>1.245066</td>\n",
       "      <td>-0.660679</td>\n",
       "      <td>VER</td>\n",
       "      <td>0.09751</td>\n",
       "    </tr>\n",
       "  </tbody>\n",
       "</table>\n",
       "</div>"
      ],
      "text/plain": [
       "             Atk_Params  Def_Params name     Home\n",
       "Atalanta       1.237224   -0.864037  ATA  0.09751\n",
       "Bologna        0.854795   -0.749996  BOL  0.09751\n",
       "Cagliari       0.606641   -0.548729  CAG  0.09751\n",
       "Empoli         0.997796   -0.505162  EMP  0.09751\n",
       "Fiorentina     1.137977   -0.819272  FIO  0.09751\n",
       "Genoa          0.373842   -0.676471  GEN  0.09751\n",
       "Inter          1.479103   -1.254799  INT  0.09751\n",
       "Juventus       1.091241   -1.139553  JUV  0.09751\n",
       "Lazio          1.417590   -0.666262  LAZ  0.09751\n",
       "Milan          1.280866   -1.306375  MIL  0.09751\n",
       "Napoli         1.345773   -1.302343  NAP  0.09751\n",
       "Roma           1.135104   -0.987442  ROM  0.09751\n",
       "Salernitana    0.581636   -0.414764  SAL  0.09751\n",
       "Sampdoria      0.901045   -0.613511  SAM  0.09751\n",
       "Sassuolo       1.237082   -0.549042  SAS  0.09751\n",
       "Spezia         0.794788   -0.502437  SPE  0.09751\n",
       "Torino         0.878493   -1.047473  TOR  0.09751\n",
       "Udinese        1.179727   -0.681598  UDI  0.09751\n",
       "Venezia        0.605239   -0.535258  VEN  0.09751\n",
       "Verona         1.245066   -0.660679  VER  0.09751"
      ]
     },
     "execution_count": 8,
     "metadata": {},
     "output_type": "execute_result"
    }
   ],
   "source": [
    "coef_df"
   ]
  },
  {
   "cell_type": "code",
   "execution_count": null,
   "metadata": {},
   "outputs": [],
   "source": []
  }
 ],
 "metadata": {
  "kernelspec": {
   "display_name": "Python 3",
   "language": "python",
   "name": "python3"
  },
  "language_info": {
   "codemirror_mode": {
    "name": "ipython",
    "version": 3
   },
   "file_extension": ".py",
   "mimetype": "text/x-python",
   "name": "python",
   "nbconvert_exporter": "python",
   "pygments_lexer": "ipython3",
   "version": "3.8.3"
  }
 },
 "nbformat": 4,
 "nbformat_minor": 4
}
