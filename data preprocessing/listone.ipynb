{
 "cells": [
  {
   "cell_type": "code",
   "execution_count": 9,
   "metadata": {},
   "outputs": [],
   "source": [
    "import pandas as pd\n",
    "import numpy as np\n",
    "import unidecode\n",
    "import requests\n",
    "from tqdm import tqdm"
   ]
  },
  {
   "cell_type": "code",
   "execution_count": 23,
   "metadata": {},
   "outputs": [],
   "source": [
    "def is_url_image(image_url):\n",
    "        image_formats = (\"image/png\", \"image/jpeg\", \"image/jpg\")\n",
    "        r = requests.head(image_url)\n",
    "        if r.headers[\"content-type\"] in image_formats:\n",
    "            return True\n",
    "        return False\n",
    "    \n",
    "def try_get_new_images(nome):\n",
    "    \n",
    "    unaccented_nome = unidecode.unidecode(nome).upper()\n",
    "    url = 'https://content.fantacalcio.it/web/campioncini/card/'+ unaccented_nome + '.png?v=12'\n",
    "    \n",
    "    if is_url_image(url):\n",
    "        return url    \n",
    "    else:\n",
    "        return 'https://content.fantacalcio.it/web/campioncini/card/NO-CAMPIONCINO.png?v=12'\n",
    "    "
   ]
  },
  {
   "cell_type": "code",
   "execution_count": 24,
   "metadata": {},
   "outputs": [],
   "source": [
    "stats = pd.read_csv('../dataset/stat_info^(Stagione 2021_22).csv')\n",
    "listone = pd.read_excel('../dataset/quotazioni^(Stagione 2022_23).xlsx',skiprows=[0])"
   ]
  },
  {
   "cell_type": "code",
   "execution_count": 25,
   "metadata": {},
   "outputs": [],
   "source": [
    "listone = listone[['Id','R','Nome','Squadra']]"
   ]
  },
  {
   "cell_type": "code",
   "execution_count": 26,
   "metadata": {},
   "outputs": [],
   "source": [
    "final_listone_stats = listone.merge(stats.drop(columns=['Nome','Squadra','Ruolo']), left_on='Id', right_on='Id', how='left').rename(columns={'R':'Ruolo'}).drop(columns='Unnamed: 0')"
   ]
  },
  {
   "cell_type": "code",
   "execution_count": 27,
   "metadata": {},
   "outputs": [
    {
     "name": "stderr",
     "output_type": "stream",
     "text": [
      "514it [00:17, 29.97it/s]\n"
     ]
    }
   ],
   "source": [
    "new_img_list = []\n",
    "for idx, row in tqdm(final_listone_stats.iterrows()):\n",
    "    if row.img is np.nan:\n",
    "        img = try_get_new_images(row.Nome)\n",
    "        new_img_list.append({'Id':row.Id,'img':img})"
   ]
  },
  {
   "cell_type": "code",
   "execution_count": 28,
   "metadata": {},
   "outputs": [
    {
     "name": "stderr",
     "output_type": "stream",
     "text": [
      "514it [00:00, 1778.56it/s]\n"
     ]
    }
   ],
   "source": [
    "new_img_df = pd.DataFrame(new_img_list)\n",
    "for idx, row in tqdm(final_listone_stats.iterrows()):\n",
    "    if row.Id in new_img_df.Id.unique():\n",
    "        final_listone_stats.loc[final_listone_stats.Id == row.Id,'img'] = new_img_df.loc[new_img_df.Id==row.Id,'img'].values"
   ]
  },
  {
   "cell_type": "code",
   "execution_count": null,
   "metadata": {},
   "outputs": [],
   "source": [
    "final_listone_stats.to_csv('../dataset/final_listone^(Stagione 2022_23).csv')"
   ]
  },
  {
   "cell_type": "code",
   "execution_count": null,
   "metadata": {},
   "outputs": [],
   "source": []
  }
 ],
 "metadata": {
  "kernelspec": {
   "display_name": "Python 3",
   "language": "python",
   "name": "python3"
  },
  "language_info": {
   "codemirror_mode": {
    "name": "ipython",
    "version": 3
   },
   "file_extension": ".py",
   "mimetype": "text/x-python",
   "name": "python",
   "nbconvert_exporter": "python",
   "pygments_lexer": "ipython3",
   "version": "3.8.3"
  },
  "vscode": {
   "interpreter": {
    "hash": "a232a4f43feff84a851e4d5606ad2adfc9c8beaebb73672c8d22b69afc383c3d"
   }
  }
 },
 "nbformat": 4,
 "nbformat_minor": 4
}
