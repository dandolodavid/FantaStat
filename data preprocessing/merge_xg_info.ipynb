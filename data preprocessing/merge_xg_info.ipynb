{
 "cells": [
  {
   "cell_type": "code",
   "execution_count": 1,
   "metadata": {},
   "outputs": [],
   "source": [
    "import pandas as pd\n",
    "import numpy as np\n",
    "import unidecode"
   ]
  },
  {
   "cell_type": "code",
   "execution_count": 2,
   "metadata": {},
   "outputs": [],
   "source": [
    "player_info = pd.read_csv('../dataset/player_info^(Stagione 2021_22).csv',index_col=[0])"
   ]
  },
  {
   "cell_type": "code",
   "execution_count": 3,
   "metadata": {
    "scrolled": true
   },
   "outputs": [
    {
     "data": {
      "text/plain": [
       "(548, 49)"
      ]
     },
     "execution_count": 3,
     "metadata": {},
     "output_type": "execute_result"
    }
   ],
   "source": [
    "player_info.shape"
   ]
  },
  {
   "cell_type": "code",
   "execution_count": 4,
   "metadata": {},
   "outputs": [],
   "source": [
    "player_xg = pd.read_csv('../dataset/player_xg_xa^(Stagione 2021_22).csv',index_col=[0]).drop_duplicates()"
   ]
  },
  {
   "cell_type": "code",
   "execution_count": 5,
   "metadata": {},
   "outputs": [
    {
     "data": {
      "text/plain": [
       "(570, 12)"
      ]
     },
     "execution_count": 5,
     "metadata": {},
     "output_type": "execute_result"
    }
   ],
   "source": [
    "player_xg.shape"
   ]
  },
  {
   "cell_type": "code",
   "execution_count": 6,
   "metadata": {},
   "outputs": [],
   "source": [
    "player_xg.Team = player_xg.Team.apply(lambda x: x.split(',')[0] if len(x.split(','))==1 else x.split(',')[1])\n",
    "player_xg.Team = player_xg.Team.apply(lambda x: x.replace('AC','').strip())"
   ]
  },
  {
   "cell_type": "code",
   "execution_count": 7,
   "metadata": {},
   "outputs": [],
   "source": [
    "player_xg.Player = player_xg.Player.apply(lambda x:unidecode.unidecode(x))"
   ]
  },
  {
   "cell_type": "code",
   "execution_count": 8,
   "metadata": {},
   "outputs": [],
   "source": [
    "player_xg = player_xg.drop_duplicates()"
   ]
  },
  {
   "cell_type": "code",
   "execution_count": 9,
   "metadata": {},
   "outputs": [],
   "source": [
    "map_name = {'Ruslan Malinovskiy':'Ruslan Malinovskyi', 'Franck Zambo':'Zambo Anguissa André', 'Hamed Junior Traore':'Traorè Hamed ', 'Arthur':'Arthur Melo', 'Kelvin Adou':'Kelvin Amian',\n",
    "           'Fabian':'Fabian Ruiz', 'Federico Di Francesco' : 'Di Francesco F', 'Jean-Daniel Akpa-Akpro':'Akpa Akpro Jean-Daniel', 'Luis Alberto':'Luis Alberto Alconchel', 'Marco Faraoni':'Davide Faraoni',\n",
    "           'Petar Stojanovic':'Stojanovic Peter','Olivier Giroud':'Oliver Giroud','Mario Rui':'Mario Rui Duarte','Luiz Felipe':'Luiz Felipe Ramos','Joao Pedro':'Joao Pedro Galvao','Jose Reina':'Pepe Reina',\n",
    "           'Juan Jesus':'Juan Jesus Nunes','Ibanez':'Roger Ibanez','Alex Sandro':'Alex Sandro Lobo','Danilo':'Danilo Luiz da Silva','Keita':'Keita Balde','Aleksey Miranchuk':'Miranchuk Aleksej',\n",
    "           'Pedro':'Pedro Rodriguez Ledesma','Berat Gjimshiti':'Djimsiti Berat','Franck Ribery':'Frank Ribery','Juan Cuadrado':'Cuadrado Jaime','Jakub Kiwior':'Kiwior Jacub','Dimitris Nikolaou':'Nikolaou Dimitrios',\n",
    "           'Di Francesco F':'Di Francesco Federico','Jose Callejon':'Josè Maria Callejon'}"
   ]
  },
  {
   "cell_type": "code",
   "execution_count": 10,
   "metadata": {},
   "outputs": [],
   "source": [
    "def search_name(nome_xg,nome_info):\n",
    "    \n",
    "    array_info = nome_info.lower().replace('è','e').replace('ò','o').replace('à','a').replace('ì','i').replace('ù','u').split(' ')\n",
    "    array_xg = nome_xg.lower().replace('è','e').replace('ò','o').replace('à','a').replace('ì','i').replace('ù','u').split(' ')\n",
    "    \n",
    "    if len(np.setdiff1d(array_info, array_xg)) == 0:\n",
    "        return True\n",
    "    else:\n",
    "        return False"
   ]
  },
  {
   "cell_type": "code",
   "execution_count": 11,
   "metadata": {},
   "outputs": [],
   "source": [
    "for player in player_xg.Player.unique():\n",
    "    if player in map_name.keys():\n",
    "        player_xg.loc[player_xg.Player == player,'Player'] = map_name[player]"
   ]
  },
  {
   "cell_type": "code",
   "execution_count": 12,
   "metadata": {},
   "outputs": [],
   "source": [
    "player_info['index_merge'] = None\n",
    "for nome_info in player_info.Nome.unique():\n",
    "    merging = player_xg.Player.loc[player_xg.Player.apply(search_name, nome_info = nome_info)].index.tolist()\n",
    "    if len(merging)>1:\n",
    "        player_info.loc[player_info.Nome == nome_info, 'index_merge'] = str(merging)\n",
    "    elif len(merging)>0:\n",
    "        player_info.loc[player_info.Nome == nome_info, 'index_merge'] = merging[0]\n",
    "    else:\n",
    "        player_info.loc[player_info.Nome == nome_info, 'index_merge'] = None"
   ]
  },
  {
   "cell_type": "code",
   "execution_count": 13,
   "metadata": {},
   "outputs": [],
   "source": [
    "final_data = player_info.merge(player_xg[['xG','xA','xG90','xA90','Performance_gol_segnati']], left_on='index_merge', right_index=True, how = 'left')"
   ]
  },
  {
   "cell_type": "code",
   "execution_count": 14,
   "metadata": {},
   "outputs": [],
   "source": [
    "final_data[['xG','xA','xG90','xA90']] = final_data[['xG','xA','xG90','xA90']].fillna(0)\n",
    "final_data['Performance_gol_segnati'] = final_data['Performance_gol_segnati'].fillna('No Data')"
   ]
  },
  {
   "cell_type": "code",
   "execution_count": 15,
   "metadata": {},
   "outputs": [],
   "source": [
    "final_data.to_csv('../dataset/stat_info^(Stagione 2021_22).csv')"
   ]
  },
  {
   "cell_type": "code",
   "execution_count": 16,
   "metadata": {},
   "outputs": [
    {
     "data": {
      "text/plain": [
       "(548, 55)"
      ]
     },
     "execution_count": 16,
     "metadata": {},
     "output_type": "execute_result"
    }
   ],
   "source": [
    "final_data.shape"
   ]
  },
  {
   "cell_type": "code",
   "execution_count": null,
   "metadata": {},
   "outputs": [],
   "source": []
  }
 ],
 "metadata": {
  "kernelspec": {
   "display_name": "Python 3",
   "language": "python",
   "name": "python3"
  },
  "language_info": {
   "codemirror_mode": {
    "name": "ipython",
    "version": 3
   },
   "file_extension": ".py",
   "mimetype": "text/x-python",
   "name": "python",
   "nbconvert_exporter": "python",
   "pygments_lexer": "ipython3",
   "version": "3.8.3"
  }
 },
 "nbformat": 4,
 "nbformat_minor": 4
}
