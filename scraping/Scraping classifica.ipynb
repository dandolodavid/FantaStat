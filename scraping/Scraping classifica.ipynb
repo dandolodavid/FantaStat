{
 "cells": [
  {
   "cell_type": "code",
   "execution_count": 1,
   "metadata": {},
   "outputs": [],
   "source": [
    "import pandas as pd\n",
    "import numpy as np"
   ]
  },
  {
   "cell_type": "code",
   "execution_count": 2,
   "metadata": {},
   "outputs": [],
   "source": [
    "html_classifica = '<table><thead style=\"opacity: 1;\"><tr><th data-num=\"0\" class=\"sort\"><span>№</span></th><th data-num=\"1\" class=\"sort\"><span title=\"Team name\">Team</span></th><th data-num=\"2\" class=\"sort\"><span title=\"Matches\">M</span></th><th data-num=\"3\" class=\"sort\"><span title=\"Wins\">W</span></th><th data-num=\"4\" class=\"sort\"><span title=\"Draws\">D</span></th><th data-num=\"5\" class=\"sort\"><span title=\"Loses\">L</span></th><th data-num=\"6\" class=\"sort\"><span title=\"Goals for\">G</span></th><th data-num=\"7\" class=\"sort\"><span title=\"Goals againist\">GA</span></th><th data-num=\"8\" class=\"sort\"><span title=\"Points\">PTS</span></th><th data-num=\"9\" class=\"sort\"><span class=\"title-expected\" title=\"Expected Goals for\">xG</span></th><th data-num=\"10\" class=\"sort\"><span class=\"title-expected\" title=\"Expected goals for without penalties and own goals\">NPxG</span></th><th data-num=\"11\" class=\"sort\"><span class=\"title-expected\" title=\"Expected Goals againist\">xGA</span></th></tr></thead><tbody><tr><td class=\"align-right\">1</td><td class=\"\"><a href=\"team/AC_Milan/2021\">AC Milan</a></td><td class=\"align-right\">38</td><td class=\"align-right\">26</td><td class=\"align-right\">8</td><td class=\"align-right\">4</td><td class=\"align-right\">69</td><td class=\"align-right\">31</td><td class=\"align-right\">86</td><td class=\"align-right nowrap\">67.34<sup class=\"positive-value\">-1.66</sup></td><td class=\"align-right nowrap\">61.16</td><td class=\"align-right nowrap\">34.63<sup class=\"positive-value\">+3.63</sup></td></tr><tr><td class=\"align-right\">2</td><td class=\"\"><a href=\"team/Inter/2021\">Inter</a></td><td class=\"align-right\">38</td><td class=\"align-right\">25</td><td class=\"align-right\">9</td><td class=\"align-right\">4</td><td class=\"align-right\">84</td><td class=\"align-right\">32</td><td class=\"align-right\">84</td><td class=\"align-right nowrap\">90.38<sup class=\"negative-value\">+6.38</sup></td><td class=\"align-right nowrap\">81.79</td><td class=\"align-right nowrap\">39.88<sup class=\"positive-value\">+7.88</sup></td></tr><tr><td class=\"align-right\">3</td><td class=\"\"><a href=\"team/Napoli/2021\">Napoli</a></td><td class=\"align-right\">38</td><td class=\"align-right\">24</td><td class=\"align-right\">7</td><td class=\"align-right\">7</td><td class=\"align-right\">74</td><td class=\"align-right\">31</td><td class=\"align-right\">79</td><td class=\"align-right nowrap\">63.64<sup class=\"positive-value\">-10.36</sup></td><td class=\"align-right nowrap\">52.91</td><td class=\"align-right nowrap\">34.40<sup class=\"positive-value\">+3.40</sup></td></tr><tr><td class=\"align-right\">4</td><td class=\"\"><a href=\"team/Juventus/2021\">Juventus</a></td><td class=\"align-right\">38</td><td class=\"align-right\">20</td><td class=\"align-right\">10</td><td class=\"align-right\">8</td><td class=\"align-right\">57</td><td class=\"align-right\">37</td><td class=\"align-right\">70</td><td class=\"align-right nowrap\">60.83<sup class=\"negative-value\">+3.83</sup></td><td class=\"align-right nowrap\">56.26</td><td class=\"align-right nowrap\">40.44<sup class=\"positive-value\">+3.44</sup></td></tr><tr><td class=\"align-right\">5</td><td class=\"\"><a href=\"team/Lazio/2021\">Lazio</a></td><td class=\"align-right\">38</td><td class=\"align-right\">18</td><td class=\"align-right\">10</td><td class=\"align-right\">10</td><td class=\"align-right\">77</td><td class=\"align-right\">58</td><td class=\"align-right\">64</td><td class=\"align-right nowrap\">59.29<sup class=\"positive-value\">-17.71</sup></td><td class=\"align-right nowrap\">52.44</td><td class=\"align-right nowrap\">50.10<sup class=\"negative-value\">-7.90</sup></td></tr><tr><td class=\"align-right\">6</td><td class=\"\"><a href=\"team/Roma/2021\">Roma</a></td><td class=\"align-right\">38</td><td class=\"align-right\">18</td><td class=\"align-right\">9</td><td class=\"align-right\">11</td><td class=\"align-right\">59</td><td class=\"align-right\">43</td><td class=\"align-right\">63</td><td class=\"align-right nowrap\">66.80<sup class=\"negative-value\">+7.80</sup></td><td class=\"align-right nowrap\">59.80</td><td class=\"align-right nowrap\">42.05<sup class=\"negative-value\">-0.95</sup></td></tr><tr><td class=\"align-right\">7</td><td class=\"\"><a href=\"team/Fiorentina/2021\">Fiorentina</a></td><td class=\"align-right\">38</td><td class=\"align-right\">19</td><td class=\"align-right\">5</td><td class=\"align-right\">14</td><td class=\"align-right\">59</td><td class=\"align-right\">51</td><td class=\"align-right\">62</td><td class=\"align-right nowrap\">62.04<sup class=\"negative-value\">+3.04</sup></td><td class=\"align-right nowrap\">52.83</td><td class=\"align-right nowrap\">45.23<sup class=\"negative-value\">-5.77</sup></td></tr><tr><td class=\"align-right\">8</td><td class=\"\"><a href=\"team/Atalanta/2021\">Atalanta</a></td><td class=\"align-right\">38</td><td class=\"align-right\">16</td><td class=\"align-right\">11</td><td class=\"align-right\">11</td><td class=\"align-right\">65</td><td class=\"align-right\">48</td><td class=\"align-right\">59</td><td class=\"align-right nowrap\">68.72<sup class=\"negative-value\">+3.72</sup></td><td class=\"align-right nowrap\">64.15</td><td class=\"align-right nowrap\">46.60<sup class=\"negative-value\">-1.40</sup></td></tr><tr><td class=\"align-right\">9</td><td class=\"\"><a href=\"team/Verona/2021\">Verona</a></td><td class=\"align-right\">38</td><td class=\"align-right\">14</td><td class=\"align-right\">11</td><td class=\"align-right\">13</td><td class=\"align-right\">65</td><td class=\"align-right\">59</td><td class=\"align-right\">53</td><td class=\"align-right nowrap\">56.39<sup class=\"positive-value\">-8.61</sup></td><td class=\"align-right nowrap\">50.30</td><td class=\"align-right nowrap\">52.04<sup class=\"negative-value\">-6.96</sup></td></tr><tr><td class=\"align-right\">10</td><td class=\"\"><a href=\"team/Torino/2021\">Torino</a></td><td class=\"align-right\">38</td><td class=\"align-right\">13</td><td class=\"align-right\">11</td><td class=\"align-right\">14</td><td class=\"align-right\">46</td><td class=\"align-right\">41</td><td class=\"align-right\">50</td><td class=\"align-right nowrap\">53.75<sup class=\"negative-value\">+7.75</sup></td><td class=\"align-right nowrap\">49.19</td><td class=\"align-right nowrap\">41.11<sup class=\"positive-value\">+0.11</sup></td></tr><tr><td class=\"align-right\">11</td><td class=\"\"><a href=\"team/Sassuolo/2021\">Sassuolo</a></td><td class=\"align-right\">38</td><td class=\"align-right\">13</td><td class=\"align-right\">11</td><td class=\"align-right\">14</td><td class=\"align-right\">64</td><td class=\"align-right\">66</td><td class=\"align-right\">50</td><td class=\"align-right nowrap\">59.36<sup class=\"positive-value\">-4.64</sup></td><td class=\"align-right nowrap\">54.03</td><td class=\"align-right nowrap\">69.96<sup class=\"positive-value\">+3.96</sup></td></tr><tr><td class=\"align-right\">12</td><td class=\"\"><a href=\"team/Udinese/2021\">Udinese</a></td><td class=\"align-right\">38</td><td class=\"align-right\">11</td><td class=\"align-right\">14</td><td class=\"align-right\">13</td><td class=\"align-right\">61</td><td class=\"align-right\">58</td><td class=\"align-right\">47</td><td class=\"align-right nowrap\">57.17<sup class=\"positive-value\">-3.83</sup></td><td class=\"align-right nowrap\">54.13</td><td class=\"align-right nowrap\">54.01<sup class=\"negative-value\">-3.99</sup></td></tr><tr><td class=\"align-right\">13</td><td class=\"\"><a href=\"team/Bologna/2021\">Bologna</a></td><td class=\"align-right\">38</td><td class=\"align-right\">12</td><td class=\"align-right\">10</td><td class=\"align-right\">16</td><td class=\"align-right\">44</td><td class=\"align-right\">55</td><td class=\"align-right\">46</td><td class=\"align-right nowrap\">45.55<sup class=\"negative-value\">+1.55</sup></td><td class=\"align-right nowrap\">41.75</td><td class=\"align-right nowrap\">58.05<sup class=\"positive-value\">+3.05</sup></td></tr><tr><td class=\"align-right\">14</td><td class=\"\"><a href=\"team/Empoli/2021\">Empoli</a></td><td class=\"align-right\">38</td><td class=\"align-right\">10</td><td class=\"align-right\">11</td><td class=\"align-right\">17</td><td class=\"align-right\">50</td><td class=\"align-right\">70</td><td class=\"align-right\">41</td><td class=\"align-right nowrap\">45.52<sup class=\"positive-value\">-4.48</sup></td><td class=\"align-right nowrap\">40.19</td><td class=\"align-right nowrap\">74.82<sup class=\"positive-value\">+4.82</sup></td></tr><tr><td class=\"align-right\">15</td><td class=\"\"><a href=\"team/Sampdoria/2021\">Sampdoria</a></td><td class=\"align-right\">38</td><td class=\"align-right\">10</td><td class=\"align-right\">6</td><td class=\"align-right\">22</td><td class=\"align-right\">46</td><td class=\"align-right\">63</td><td class=\"align-right\">36</td><td class=\"align-right nowrap\">39.09<sup class=\"positive-value\">-6.91</sup></td><td class=\"align-right nowrap\">35.92</td><td class=\"align-right nowrap\">62.11<sup class=\"negative-value\">-0.89</sup></td></tr><tr><td class=\"align-right\">16</td><td class=\"\"><a href=\"team/Spezia/2021\">Spezia</a></td><td class=\"align-right\">38</td><td class=\"align-right\">10</td><td class=\"align-right\">6</td><td class=\"align-right\">22</td><td class=\"align-right\">41</td><td class=\"align-right\">71</td><td class=\"align-right\">36</td><td class=\"align-right nowrap\">41.65<sup class=\"negative-value\">+0.65</sup></td><td class=\"align-right nowrap\">37.83</td><td class=\"align-right nowrap\">69.55<sup class=\"negative-value\">-1.45</sup></td></tr><tr><td class=\"align-right\">17</td><td class=\"\"><a href=\"team/Salernitana/2021\">Salernitana</a></td><td class=\"align-right\">38</td><td class=\"align-right\">7</td><td class=\"align-right\">10</td><td class=\"align-right\">21</td><td class=\"align-right\">33</td><td class=\"align-right\">78</td><td class=\"align-right\">31</td><td class=\"align-right nowrap\">39.49<sup class=\"negative-value\">+6.49</sup></td><td class=\"align-right nowrap\">35.68</td><td class=\"align-right nowrap\">71.42<sup class=\"negative-value\">-6.58</sup></td></tr><tr><td class=\"align-right\">18</td><td class=\"\"><a href=\"team/Cagliari/2021\">Cagliari</a></td><td class=\"align-right\">38</td><td class=\"align-right\">6</td><td class=\"align-right\">12</td><td class=\"align-right\">20</td><td class=\"align-right\">34</td><td class=\"align-right\">68</td><td class=\"align-right\">30</td><td class=\"align-right nowrap\">40.74<sup class=\"negative-value\">+6.74</sup></td><td class=\"align-right nowrap\">37.70</td><td class=\"align-right nowrap\">68.56<sup class=\"positive-value\">+0.56</sup></td></tr><tr><td class=\"align-right\">19</td><td class=\"\"><a href=\"team/Genoa/2021\">Genoa</a></td><td class=\"align-right\">38</td><td class=\"align-right\">4</td><td class=\"align-right\">16</td><td class=\"align-right\">18</td><td class=\"align-right\">27</td><td class=\"align-right\">60</td><td class=\"align-right\">28</td><td class=\"align-right nowrap\">38.53<sup class=\"negative-value\">+11.53</sup></td><td class=\"align-right nowrap\">33.20</td><td class=\"align-right nowrap\">60.12<sup class=\"positive-value\">+0.12</sup></td></tr><tr><td class=\"align-right\">20</td><td class=\"\"><a href=\"team/Venezia/2021\">Venezia</a></td><td class=\"align-right\">38</td><td class=\"align-right\">6</td><td class=\"align-right\">9</td><td class=\"align-right\">23</td><td class=\"align-right\">34</td><td class=\"align-right\">69</td><td class=\"align-right\">27</td><td class=\"align-right nowrap\">36.16<sup class=\"negative-value\">+2.16</sup></td><td class=\"align-right nowrap\">32.22</td><td class=\"align-right nowrap\">77.36<sup class=\"positive-value\">+8.36</sup></td></tr></tbody></table>'"
   ]
  },
  {
   "cell_type": "code",
   "execution_count": 3,
   "metadata": {},
   "outputs": [],
   "source": [
    "classifica = pd.read_html(html_classifica)[0]"
   ]
  },
  {
   "cell_type": "code",
   "execution_count": 4,
   "metadata": {},
   "outputs": [],
   "source": [
    "classifica.columns = classifica.columns.get_level_values(0)"
   ]
  },
  {
   "cell_type": "code",
   "execution_count": 5,
   "metadata": {},
   "outputs": [],
   "source": [
    "classifica.xG = classifica.xG.apply(lambda x: x.split('-')[0].split('+')[0])\n",
    "classifica.xGA = classifica.xGA.apply(lambda x: x.split('-')[0].split('+')[0])"
   ]
  },
  {
   "cell_type": "code",
   "execution_count": 6,
   "metadata": {},
   "outputs": [],
   "source": [
    "classifica = classifica.rename(columns={'№':'N'})\n",
    "classifica.index.name = None"
   ]
  },
  {
   "cell_type": "code",
   "execution_count": 7,
   "metadata": {},
   "outputs": [],
   "source": [
    "classifica = classifica.rename(columns={'Team':'Squadra','M':'Giocate','W':'V','D':'P','L':'S','G':'Gol','GA':'Gol Subiti','xGA':'xG against'})"
   ]
  },
  {
   "cell_type": "code",
   "execution_count": 8,
   "metadata": {},
   "outputs": [],
   "source": [
    "classifica.Squadra = classifica.Squadra.apply(lambda x: x.replace('AC ',''))"
   ]
  },
  {
   "cell_type": "code",
   "execution_count": 9,
   "metadata": {},
   "outputs": [],
   "source": [
    "classifica['img'] = classifica.Squadra.apply(lambda x: 'https://content.fantacalcio.it/web/img/team/ico/' + x.lower() + '.png')"
   ]
  },
  {
   "cell_type": "code",
   "execution_count": 10,
   "metadata": {},
   "outputs": [],
   "source": [
    "classifica['Gol partita'] = np.round(classifica['Gol']/classifica['Giocate'],2)\n",
    "classifica['Gol subiti partita'] = np.round(classifica['Gol Subiti']/classifica['Giocate'],2)\n",
    "classifica['xG partita'] = np.round(classifica['xG'].astype(float)/classifica['Giocate'],2)\n",
    "classifica['xG against partita'] = np.round(classifica['xG against'].astype(float)/classifica['Giocate'],2)"
   ]
  },
  {
   "cell_type": "code",
   "execution_count": 11,
   "metadata": {},
   "outputs": [],
   "source": [
    "classifica = classifica[['N', 'Squadra', 'Giocate', 'PTS', 'Gol', 'Gol Subiti', 'Gol partita', 'Gol subiti partita',\n",
    "       'xG', 'NPxG', 'xG against', 'xG partita','xG against partita','img']]"
   ]
  },
  {
   "cell_type": "code",
   "execution_count": 12,
   "metadata": {},
   "outputs": [],
   "source": [
    "classifica.to_csv('../dataset/classifica_xg_xa^(Stagione 2021_22).csv')"
   ]
  },
  {
   "cell_type": "code",
   "execution_count": null,
   "metadata": {},
   "outputs": [],
   "source": []
  }
 ],
 "metadata": {
  "kernelspec": {
   "display_name": "Python 3",
   "language": "python",
   "name": "python3"
  },
  "language_info": {
   "codemirror_mode": {
    "name": "ipython",
    "version": 3
   },
   "file_extension": ".py",
   "mimetype": "text/x-python",
   "name": "python",
   "nbconvert_exporter": "python",
   "pygments_lexer": "ipython3",
   "version": "3.8.3"
  }
 },
 "nbformat": 4,
 "nbformat_minor": 4
}
