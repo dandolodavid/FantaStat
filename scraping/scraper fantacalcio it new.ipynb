{
 "cells": [
  {
   "cell_type": "code",
   "execution_count": 1,
   "metadata": {},
   "outputs": [],
   "source": [
    "import pandas as pd\n",
    "import numpy as np\n",
    "from bs4 import BeautifulSoup\n",
    "from selenium import webdriver\n",
    "from tqdm import tqdm\n",
    "from scraping_fantacalcio_it import scraping_url, getDownLoadedFileName, scraping_bad_url\n",
    "from selenium.webdriver.common.keys import Keys\n",
    "import os\n",
    "from os import listdir\n",
    "from os.path import isfile, join\n",
    "import time"
   ]
  },
  {
   "cell_type": "code",
   "execution_count": 2,
   "metadata": {},
   "outputs": [],
   "source": [
    "download_path = os.getcwd() + '\\\\data_download'"
   ]
  },
  {
   "cell_type": "code",
   "execution_count": 3,
   "metadata": {},
   "outputs": [],
   "source": []
  },
  {
   "cell_type": "code",
   "execution_count": 4,
   "metadata": {},
   "outputs": [],
   "source": [
    "chromepath = \"selenium/webdriver/chrome/chromedriver.exe\""
   ]
  },
  {
   "cell_type": "code",
   "execution_count": 5,
   "metadata": {},
   "outputs": [],
   "source": [
    "f = open(\"url_list.txt\", \"r\")\n",
    "urls = f.read().split('\\n')\n",
    "urls = urls[:-1]"
   ]
  },
  {
   "cell_type": "code",
   "execution_count": 6,
   "metadata": {},
   "outputs": [],
   "source": [
    "options = webdriver.ChromeOptions()\n",
    "prefs = {}\n",
    "prefs[\"profile.default_content_settings.popups\"]=0\n",
    "prefs[\"download.default_directory\"] = download_path\n",
    "options.add_experimental_option(\"prefs\", prefs)\n",
    "browser = webdriver.Chrome(options=options, executable_path=chromepath)"
   ]
  },
  {
   "cell_type": "code",
   "execution_count": 7,
   "metadata": {},
   "outputs": [],
   "source": [
    "url = 'https://www.fantacalcio.it/login'\n",
    "browser.get(url)\n",
    "time.sleep(2)\n",
    "browser.find_element_by_xpath('//*[@id=\"qc-cmp2-ui\"]/div[3]/div/button[3]').click()\n",
    "browser.find_element_by_xpath('//*[@id=\"loginForm\"]/div[1]/input').send_keys(user)\n",
    "time.sleep(2)\n",
    "browser.find_element_by_xpath('//*[@id=\"loginForm\"]/div[2]/input').send_keys(passw)\n",
    "time.sleep(2)\n",
    "browser.find_element_by_xpath('//*[@id=\"loginForm\"]/button').click()"
   ]
  },
  {
   "cell_type": "code",
   "execution_count": 8,
   "metadata": {},
   "outputs": [],
   "source": [
    "#for url in tqdm(urls):\n",
    "    #scraping_url(browser = browser, url = url,  download_path=download_path, extra_path= 'status_img_download/')"
   ]
  },
  {
   "cell_type": "code",
   "execution_count": 9,
   "metadata": {},
   "outputs": [],
   "source": [
    "f = open(\"log_player_scraping.txt\", \"r\")\n",
    "bad_urls = f.read().split('\\n')\n",
    "bad_urls = bad_urls[:-1]"
   ]
  },
  {
   "cell_type": "code",
   "execution_count": 10,
   "metadata": {},
   "outputs": [
    {
     "name": "stderr",
     "output_type": "stream",
     "text": [
      "100%|██████████████████████████████████████████████████████████████████████████████████| 50/50 [01:03<00:00,  1.27s/it]\n"
     ]
    }
   ],
   "source": [
    "for url in tqdm(bad_urls):\n",
    "    scraping_bad_url(browser = browser, url = url,  download_path=download_path, extra_path= 'status_img_download/')"
   ]
  },
  {
   "cell_type": "code",
   "execution_count": null,
   "metadata": {},
   "outputs": [],
   "source": []
  }
 ],
 "metadata": {
  "kernelspec": {
   "display_name": "Python 3",
   "language": "python",
   "name": "python3"
  },
  "language_info": {
   "codemirror_mode": {
    "name": "ipython",
    "version": 3
   },
   "file_extension": ".py",
   "mimetype": "text/x-python",
   "name": "python",
   "nbconvert_exporter": "python",
   "pygments_lexer": "ipython3",
   "version": "3.8.3"
  },
  "vscode": {
   "interpreter": {
    "hash": "a232a4f43feff84a851e4d5606ad2adfc9c8beaebb73672c8d22b69afc383c3d"
   }
  }
 },
 "nbformat": 4,
 "nbformat_minor": 4
}
